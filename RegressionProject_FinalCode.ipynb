{
 "cells": [
  {
   "cell_type": "markdown",
   "metadata": {},
   "source": [
    "# Step 1: Data Cleaning"
   ]
  },
  {
   "cell_type": "code",
   "execution_count": 1,
   "metadata": {},
   "outputs": [],
   "source": [
    "import pandas as pd\n",
    "import numpy as np\n",
    "import xlsxwriter\n",
    "import matplotlib.pyplot as plt\n",
    "%matplotlib inline"
   ]
  },
  {
   "cell_type": "markdown",
   "metadata": {},
   "source": [
    "Data cleaning is the process of ensuring data is correct, consistent and usable. In order to create a reliable dataset we need to adopt Data Cleaning method so that we can increase the quality of our data set. In our study we will go through following steps for cleaning our data:<br>\n",
    "**i) Missing value Treatment<br>\n",
    "ii) Duplicate data Treatment<br>\n",
    "ii) Outlier Detection**"
   ]
  },
  {
   "cell_type": "markdown",
   "metadata": {},
   "source": [
    "# Missing value Treatment, Removal of Duplicate data and Outlier Detection of GDP data"
   ]
  },
  {
   "cell_type": "code",
   "execution_count": 9,
   "metadata": {},
   "outputs": [
    {
     "data": {
      "text/html": [
       "<div>\n",
       "<style scoped>\n",
       "    .dataframe tbody tr th:only-of-type {\n",
       "        vertical-align: middle;\n",
       "    }\n",
       "\n",
       "    .dataframe tbody tr th {\n",
       "        vertical-align: top;\n",
       "    }\n",
       "\n",
       "    .dataframe thead th {\n",
       "        text-align: right;\n",
       "    }\n",
       "</style>\n",
       "<table border=\"1\" class=\"dataframe\">\n",
       "  <thead>\n",
       "    <tr style=\"text-align: right;\">\n",
       "      <th></th>\n",
       "      <th>Year</th>\n",
       "      <th>GDP_at_Current_Prices</th>\n",
       "    </tr>\n",
       "  </thead>\n",
       "  <tbody>\n",
       "    <tr>\n",
       "      <th>0</th>\n",
       "      <td>1980-81</td>\n",
       "      <td>1496.42</td>\n",
       "    </tr>\n",
       "    <tr>\n",
       "      <th>1</th>\n",
       "      <td>1981-82</td>\n",
       "      <td>1758.05</td>\n",
       "    </tr>\n",
       "  </tbody>\n",
       "</table>\n",
       "</div>"
      ],
      "text/plain": [
       "      Year  GDP_at_Current_Prices\n",
       "0  1980-81                1496.42\n",
       "1  1981-82                1758.05"
      ]
     },
     "execution_count": 9,
     "metadata": {},
     "output_type": "execute_result"
    }
   ],
   "source": [
    "gdp_data=pd.read_csv(r\"C:\\Users\\sb\\Desktop\\Regression Data\\GDP Data.csv\")\n",
    "gdp_data.head(2)"
   ]
  },
  {
   "cell_type": "markdown",
   "metadata": {},
   "source": [
    "# • Missing Value Treatment:"
   ]
  },
  {
   "cell_type": "code",
   "execution_count": 12,
   "metadata": {},
   "outputs": [
    {
     "data": {
      "text/plain": [
       "Year                     0\n",
       "GDP_at_Current_Prices    0\n",
       "dtype: int64"
      ]
     },
     "execution_count": 12,
     "metadata": {},
     "output_type": "execute_result"
    }
   ],
   "source": [
    "#No of missing values in the data\n",
    "gdp_data.isnull().sum()"
   ]
  },
  {
   "cell_type": "markdown",
   "metadata": {},
   "source": [
    "Our data on GDP at Current Price does not contain any missing value. So, we don't need to take any remedial measure for it."
   ]
  },
  {
   "cell_type": "markdown",
   "metadata": {},
   "source": [
    "# •Detection and Removal of Duplicate data:"
   ]
  },
  {
   "cell_type": "code",
   "execution_count": 13,
   "metadata": {},
   "outputs": [
    {
     "data": {
      "text/plain": [
       "1"
      ]
     },
     "execution_count": 13,
     "metadata": {},
     "output_type": "execute_result"
    }
   ],
   "source": [
    "#No of duplicate rows in year column\n",
    "gdp_data['Year'].duplicated().sum()"
   ]
  },
  {
   "cell_type": "code",
   "execution_count": 14,
   "metadata": {},
   "outputs": [
    {
     "data": {
      "text/html": [
       "<div>\n",
       "<style scoped>\n",
       "    .dataframe tbody tr th:only-of-type {\n",
       "        vertical-align: middle;\n",
       "    }\n",
       "\n",
       "    .dataframe tbody tr th {\n",
       "        vertical-align: top;\n",
       "    }\n",
       "\n",
       "    .dataframe thead th {\n",
       "        text-align: right;\n",
       "    }\n",
       "</style>\n",
       "<table border=\"1\" class=\"dataframe\">\n",
       "  <thead>\n",
       "    <tr style=\"text-align: right;\">\n",
       "      <th></th>\n",
       "      <th>Year</th>\n",
       "      <th>GDP_at_Current_Prices</th>\n",
       "    </tr>\n",
       "  </thead>\n",
       "  <tbody>\n",
       "    <tr>\n",
       "      <th>31</th>\n",
       "      <td>2011-12</td>\n",
       "      <td>90097.21892</td>\n",
       "    </tr>\n",
       "    <tr>\n",
       "      <th>32</th>\n",
       "      <td>2011-12</td>\n",
       "      <td>87360.39000</td>\n",
       "    </tr>\n",
       "  </tbody>\n",
       "</table>\n",
       "</div>"
      ],
      "text/plain": [
       "       Year  GDP_at_Current_Prices\n",
       "31  2011-12            90097.21892\n",
       "32  2011-12            87360.39000"
      ]
     },
     "execution_count": 14,
     "metadata": {},
     "output_type": "execute_result"
    }
   ],
   "source": [
    "#Duplicate data in dataset\n",
    "gdp_data.loc[gdp_data['Year'].duplicated(keep=False), :]"
   ]
  },
  {
   "cell_type": "markdown",
   "metadata": {},
   "source": [
    "It can be observed from the above analysis that the original data on GDP at Current Price contains duplicated rows. Here both the 31st and 32nd datapoints contain the data on GDP for 2011-12. In this case we will drop the 31st row and keep the 32nd row in our dataset."
   ]
  },
  {
   "cell_type": "code",
   "execution_count": 15,
   "metadata": {},
   "outputs": [],
   "source": [
    "#Removal of the duplicate data saving changes to original dataset\n",
    "gdp_data.drop_duplicates(subset=['Year'],keep='last',inplace= True)"
   ]
  },
  {
   "cell_type": "code",
   "execution_count": 16,
   "metadata": {},
   "outputs": [
    {
     "name": "stdout",
     "output_type": "stream",
     "text": [
      "       Year  GDP_at_Current_Prices\n",
      "30  2010-11               77841.16\n",
      "32  2011-12               87360.39\n",
      "33  2012-13               99513.44\n",
      "34  2013-14              112727.64\n",
      "35  2014-15              124882.05\n",
      "36  2015-16              135760.86\n",
      "37  2016-17              153916.69\n",
      "38  2017-18              170983.04\n",
      "39  2018-19              189712.37\n",
      "40  2019-20              203398.49\n"
     ]
    }
   ],
   "source": [
    "print(gdp_data.tail(10))"
   ]
  },
  {
   "cell_type": "code",
   "execution_count": 17,
   "metadata": {},
   "outputs": [
    {
     "data": {
      "text/plain": [
       "(40, 2)"
      ]
     },
     "execution_count": 17,
     "metadata": {},
     "output_type": "execute_result"
    }
   ],
   "source": [
    "gdp_data.shape"
   ]
  },
  {
   "cell_type": "markdown",
   "metadata": {},
   "source": [
    "Thus, we have succesfully got rid of the problem of duplicated row from the data on GDP at Current Price. "
   ]
  },
  {
   "cell_type": "markdown",
   "metadata": {},
   "source": [
    "# • Detection and Removal of Outliers: "
   ]
  },
  {
   "cell_type": "markdown",
   "metadata": {},
   "source": [
    "An outlier is a data point that differs significantly from other observations. An outlier may be due to variability in the measurement or it may indicate experimental error. Serious problems can occur in statistical analysis due to the exiistence of outlier. We will try to get rid of outlier problems in our data.\n",
    "<br>Using Boxplot we will first detect the existence of outliers in our data."
   ]
  },
  {
   "cell_type": "code",
   "execution_count": 19,
   "metadata": {},
   "outputs": [
    {
     "data": {
      "text/plain": [
       "<AxesSubplot:>"
      ]
     },
     "execution_count": 19,
     "metadata": {},
     "output_type": "execute_result"
    },
    {
     "data": {
      "image/png": "[encoded data removed]",
      "text/plain": [
       "<Figure size 432x288 with 1 Axes>"
      ]
     },
     "metadata": {
      "needs_background": "light"
     },
     "output_type": "display_data"
    }
   ],
   "source": [
    "#Visualization of Outliers in gdp_data\n",
    "gdp_data.boxplot(['GDP_at_Current_Prices'])"
   ]
  },
  {
   "cell_type": "markdown",
   "metadata": {},
   "source": [
    "In the boxplot, there are some observations outside the interval $(Q1-1.5*IQR,Q3+1.5*IQR)$, <br>where Q1 is the First quartile, Q3 is the Third Quartile and IQR= Inter Quartile Range= Q3-Q1.<br> This indicates that the data contains outliers."
   ]
  },
  {
   "cell_type": "code",
   "execution_count": 20,
   "metadata": {},
   "outputs": [
    {
     "data": {
      "text/plain": [
       "count        40.000000\n",
       "mean      47188.550000\n",
       "std       57708.580452\n",
       "min        1496.420000\n",
       "25%        5651.410000\n",
       "50%       20904.250000\n",
       "75%       68044.000000\n",
       "max      203398.490000\n",
       "Name: GDP_at_Current_Prices, dtype: float64"
      ]
     },
     "execution_count": 20,
     "metadata": {},
     "output_type": "execute_result"
    }
   ],
   "source": [
    "gdp_data['GDP_at_Current_Prices'].describe()"
   ]
  },
  {
   "cell_type": "markdown",
   "metadata": {},
   "source": [
    "The values of GDP at Current prices which are greater than $Q3+(1.5*IQR)$ will be replaced by $Q3+(1.5*IQR)$ <br> The values which are less than $Q1-(1.5*IQR)$ will be replaced by $Q1-(1.5*IQR)$."
   ]
  },
  {
   "cell_type": "code",
   "execution_count": 105,
   "metadata": {},
   "outputs": [],
   "source": [
    "Q1=5651.410000\n",
    "Q3=68044.000000\n",
    "IQR=Q3-Q1\n",
    "upper_limit=Q3+(1.5*IQR)\n",
    "lower_limit=Q1-(1.5*IQR)"
   ]
  },
  {
   "cell_type": "code",
   "execution_count": 106,
   "metadata": {},
   "outputs": [],
   "source": [
    "gdp_data['GDP_at_Current_Prices']=np.where(gdp_data['GDP_at_Current_Prices']>upper_limit,upper_limit,gdp_data['GDP_at_Current_Prices'])\n",
    "gdp_data['GDP_at_Current_Prices']=np.where(gdp_data['GDP_at_Current_Prices']<lower_limit,lower_limit,gdp_data['GDP_at_Current_Prices'])"
   ]
  },
  {
   "cell_type": "code",
   "execution_count": 107,
   "metadata": {},
   "outputs": [
    {
     "data": {
      "text/plain": [
       "<AxesSubplot:>"
      ]
     },
     "execution_count": 107,
     "metadata": {},
     "output_type": "execute_result"
    },
    {
     "data": {
      "image/png": "[encoded data removed]",
      "text/plain": [
       "<Figure size 432x288 with 1 Axes>"
      ]
     },
     "metadata": {
      "needs_background": "light"
     },
     "output_type": "display_data"
    }
   ],
   "source": [
    "gdp_data.boxplot(['GDP_at_Current_Prices'])"
   ]
  },
  {
   "cell_type": "markdown",
   "metadata": {},
   "source": [
    "Now, the data does not contain any outlier. \n",
    "<br> Now our data on GDP at Current Prices is free of missing values, duplicated datapoints and outliers"
   ]
  },
  {
   "cell_type": "markdown",
   "metadata": {},
   "source": [
    "# Missing Value Treatment, Removal of Duplicate Data and Detection of Outliers of the Regressor Variables"
   ]
  },
  {
   "cell_type": "markdown",
   "metadata": {},
   "source": [
    "## •Missing Value Treatment:"
   ]
  },
  {
   "cell_type": "code",
   "execution_count": 48,
   "metadata": {},
   "outputs": [
    {
     "data": {
      "text/html": [
       "<div>\n",
       "<style scoped>\n",
       "    .dataframe tbody tr th:only-of-type {\n",
       "        vertical-align: middle;\n",
       "    }\n",
       "\n",
       "    .dataframe tbody tr th {\n",
       "        vertical-align: top;\n",
       "    }\n",
       "\n",
       "    .dataframe thead th {\n",
       "        text-align: right;\n",
       "    }\n",
       "</style>\n",
       "<table border=\"1\" class=\"dataframe\">\n",
       "  <thead>\n",
       "    <tr style=\"text-align: right;\">\n",
       "      <th></th>\n",
       "      <th>Year</th>\n",
       "      <th>Total_Foodgrains</th>\n",
       "      <th>Commercial_Crops</th>\n",
       "      <th>CrudeOil_POL_Prod_Imp</th>\n",
       "      <th>Total_Exports</th>\n",
       "      <th>Total_Imports</th>\n",
       "      <th>Tax_Reveneues</th>\n",
       "      <th>Total_Savings_Deposits</th>\n",
       "      <th>Fiscal_Deficit</th>\n",
       "      <th>Gross_Market_Borrowing</th>\n",
       "      <th>Liabilities_of_RBI</th>\n",
       "      <th>Total_Expenditures</th>\n",
       "      <th>Currenc_with_the_Public</th>\n",
       "      <th>Investments_by_LIC</th>\n",
       "      <th>Support_Price_for_Foodgrains</th>\n",
       "      <th>Price_of_Gold</th>\n",
       "    </tr>\n",
       "  </thead>\n",
       "  <tbody>\n",
       "    <tr>\n",
       "      <th>0</th>\n",
       "      <td>1980-81</td>\n",
       "      <td>1295.9</td>\n",
       "      <td>8752.7</td>\n",
       "      <td>57</td>\n",
       "      <td>6710.71</td>\n",
       "      <td>125.4915</td>\n",
       "      <td>19763</td>\n",
       "      <td>10937</td>\n",
       "      <td>8299</td>\n",
       "      <td>3204</td>\n",
       "      <td>11844.0</td>\n",
       "      <td>37879</td>\n",
       "      <td>12364</td>\n",
       "      <td>5287.7</td>\n",
       "      <td>930.0</td>\n",
       "      <td>37.76</td>\n",
       "    </tr>\n",
       "    <tr>\n",
       "      <th>1</th>\n",
       "      <td>1981-82</td>\n",
       "      <td>1333.0</td>\n",
       "      <td>9376.6</td>\n",
       "      <td>72</td>\n",
       "      <td>7805.90</td>\n",
       "      <td>136.0755</td>\n",
       "      <td>24036</td>\n",
       "      <td>12995</td>\n",
       "      <td>8666</td>\n",
       "      <td>3698</td>\n",
       "      <td>13755.0</td>\n",
       "      <td>44479</td>\n",
       "      <td>13878</td>\n",
       "      <td>6020.5</td>\n",
       "      <td>NaN</td>\n",
       "      <td>509.23</td>\n",
       "    </tr>\n",
       "  </tbody>\n",
       "</table>\n",
       "</div>"
      ],
      "text/plain": [
       "      Year  Total_Foodgrains  Commercial_Crops  CrudeOil_POL_Prod_Imp  \\\n",
       "0  1980-81            1295.9            8752.7                     57   \n",
       "1  1981-82            1333.0            9376.6                     72   \n",
       "\n",
       "   Total_Exports  Total_Imports  Tax_Reveneues  Total_Savings_Deposits  \\\n",
       "0        6710.71       125.4915          19763                   10937   \n",
       "1        7805.90       136.0755          24036                   12995   \n",
       "\n",
       "   Fiscal_Deficit  Gross_Market_Borrowing  Liabilities_of_RBI  \\\n",
       "0            8299                    3204             11844.0   \n",
       "1            8666                    3698             13755.0   \n",
       "\n",
       "   Total_Expenditures  Currenc_with_the_Public  Investments_by_LIC  \\\n",
       "0               37879                    12364              5287.7   \n",
       "1               44479                    13878              6020.5   \n",
       "\n",
       "   Support_Price_for_Foodgrains  Price_of_Gold  \n",
       "0                         930.0          37.76  \n",
       "1                           NaN         509.23  "
      ]
     },
     "execution_count": 48,
     "metadata": {},
     "output_type": "execute_result"
    }
   ],
   "source": [
    "regressor_data=pd.read_csv(r\"C:\\Users\\sb\\Desktop\\Regression Data\\Regressor Data.csv\")\n",
    "regressor_data.head(2)"
   ]
  },
  {
   "cell_type": "code",
   "execution_count": 49,
   "metadata": {},
   "outputs": [
    {
     "data": {
      "text/plain": [
       "  Year                          0\n",
       "Total_Foodgrains                0\n",
       "Commercial_Crops                2\n",
       "CrudeOil_POL_Prod_Imp           0\n",
       "Total_Exports                   0\n",
       "Total_Imports                   0\n",
       "Tax_Reveneues                   0\n",
       "Total_Savings_Deposits          0\n",
       "Fiscal_Deficit                  0\n",
       "Gross_Market_Borrowing          0\n",
       "Liabilities_of_RBI              0\n",
       "Total_Expenditures              0\n",
       "Currenc_with_the_Public         0\n",
       "Investments_by_LIC              0\n",
       "Support_Price_for_Foodgrains    1\n",
       "Price_of_Gold                   0\n",
       "dtype: int64"
      ]
     },
     "execution_count": 49,
     "metadata": {},
     "output_type": "execute_result"
    }
   ],
   "source": [
    "#No of missing values in the data\n",
    "regressor_data.isnull().sum()"
   ]
  },
  {
   "cell_type": "markdown",
   "metadata": {},
   "source": [
    "From the above analysis it can be realised that the data on Commercial_Crops contains two missing observations and the data on Support_Price_for_Foodgrains contain one missing observation."
   ]
  },
  {
   "cell_type": "markdown",
   "metadata": {},
   "source": [
    "### i) Extrapolation of the values of Commercial_Crops"
   ]
  },
  {
   "cell_type": "code",
   "execution_count": 50,
   "metadata": {},
   "outputs": [],
   "source": [
    "x=[1,2,3,4,5,6,7,8,9,10,11,12,13,14,15,16,17,18,19,20,21,22,23,24,25,26,27,28,29,30,31,32,33,34,35,36,37,38,39,40]\n"
   ]
  },
  {
   "cell_type": "code",
   "execution_count": 51,
   "metadata": {},
   "outputs": [
    {
     "data": {
      "text/plain": [
       "[<matplotlib.lines.Line2D at 0x2ccba98d790>]"
      ]
     },
     "execution_count": 51,
     "metadata": {},
     "output_type": "execute_result"
    },
    {
     "data": {
      "image/png": "[encoded data removed]",
      "text/plain": [
       "<Figure size 432x288 with 1 Axes>"
      ]
     },
     "metadata": {
      "needs_background": "light"
     },
     "output_type": "display_data"
    }
   ],
   "source": [
    "\n",
    "y=regressor_data['Commercial_Crops'].dropna()\n",
    "plt.plot(x[0:38],y)"
   ]
  },
  {
   "cell_type": "code",
   "execution_count": 52,
   "metadata": {},
   "outputs": [
    {
     "data": {
      "text/plain": [
       "[<matplotlib.lines.Line2D at 0x2ccba9f3310>]"
      ]
     },
     "execution_count": 52,
     "metadata": {},
     "output_type": "execute_result"
    },
    {
     "data": {
      "image/png": "[encoded data removed]",
      "text/plain": [
       "<Figure size 432x288 with 1 Axes>"
      ]
     },
     "metadata": {
      "needs_background": "light"
     },
     "output_type": "display_data"
    }
   ],
   "source": [
    "x_arg=x[0:38]\n",
    "poly_coeff=np.polyfit(x_arg,y,2)\n",
    "poly_coeff\n",
    "y_fit=np.poly1d(poly_coeff)\n",
    "x_new=x\n",
    "plt.plot(x_new,y_fit(x_new))\n",
    "plt.plot(x[0:38],y)"
   ]
  },
  {
   "cell_type": "markdown",
   "metadata": {},
   "source": [
    "We have plotted the available observations on Commercial_Crops agains their respective time points. From the plot it can be realised that a second degree polynomial will be suitable to the data. So, we fitted a second degree polynomial to the data."
   ]
  },
  {
   "cell_type": "code",
   "execution_count": 53,
   "metadata": {},
   "outputs": [
    {
     "data": {
      "text/plain": [
       "20611.379554655876"
      ]
     },
     "execution_count": 53,
     "metadata": {},
     "output_type": "execute_result"
    }
   ],
   "source": [
    "y_fit(38)"
   ]
  },
  {
   "cell_type": "code",
   "execution_count": 54,
   "metadata": {},
   "outputs": [
    {
     "data": {
      "text/plain": [
       "21008.54224751067"
      ]
     },
     "execution_count": 54,
     "metadata": {},
     "output_type": "execute_result"
    }
   ],
   "source": [
    "y_fit(39)"
   ]
  },
  {
   "cell_type": "code",
   "execution_count": 55,
   "metadata": {},
   "outputs": [
    {
     "data": {
      "text/plain": [
       "array([ 8752.7       ,  9376.6       ,  9134.2       ,  8982.1       ,\n",
       "       10455.3       ,  9907.7       , 10394.1       , 10301.3       ,\n",
       "       11695.7       , 10789.4       , 11847.        , 12428.1       ,\n",
       "       11588.1       , 12617.2       , 12691.7       , 13231.2       ,\n",
       "       13337.4       , 14058.4       , 14782.5       , 14896.1       ,\n",
       "       15003.3       , 15101.8       , 14565.4       , 14558.9       ,\n",
       "       14922.7       , 15863.2       , 16964.        , 16904.8       ,\n",
       "       16053.2       , 16564.9       , 17172.8       , 18734.2       ,\n",
       "       18986.2       , 19759.5       , 19848.7       , 20150.8       ,\n",
       "       19727.3       , 21248.2       , 20611.37955466, 21008.54224751])"
      ]
     },
     "execution_count": 55,
     "metadata": {},
     "output_type": "execute_result"
    }
   ],
   "source": [
    "y=np.append(y,20611.379554655876)\n",
    "y=np.append(y,21008.54224751067)\n",
    "y"
   ]
  },
  {
   "cell_type": "code",
   "execution_count": 60,
   "metadata": {},
   "outputs": [
    {
     "data": {
      "text/html": [
       "<div>\n",
       "<style scoped>\n",
       "    .dataframe tbody tr th:only-of-type {\n",
       "        vertical-align: middle;\n",
       "    }\n",
       "\n",
       "    .dataframe tbody tr th {\n",
       "        vertical-align: top;\n",
       "    }\n",
       "\n",
       "    .dataframe thead th {\n",
       "        text-align: right;\n",
       "    }\n",
       "</style>\n",
       "<table border=\"1\" class=\"dataframe\">\n",
       "  <thead>\n",
       "    <tr style=\"text-align: right;\">\n",
       "      <th></th>\n",
       "      <th>Year</th>\n",
       "      <th>Total_Foodgrains</th>\n",
       "      <th>Commercial_Crops</th>\n",
       "      <th>CrudeOil_POL_Prod_Imp</th>\n",
       "      <th>Total_Exports</th>\n",
       "      <th>Total_Imports</th>\n",
       "      <th>Tax_Reveneues</th>\n",
       "      <th>Total_Savings_Deposits</th>\n",
       "      <th>Fiscal_Deficit</th>\n",
       "      <th>Gross_Market_Borrowing</th>\n",
       "      <th>Liabilities_of_RBI</th>\n",
       "      <th>Total_Expenditures</th>\n",
       "      <th>Currenc_with_the_Public</th>\n",
       "      <th>Investments_by_LIC</th>\n",
       "      <th>Support_Price_for_Foodgrains</th>\n",
       "      <th>Price_of_Gold</th>\n",
       "    </tr>\n",
       "  </thead>\n",
       "  <tbody>\n",
       "    <tr>\n",
       "      <th>35</th>\n",
       "      <td>2015-16</td>\n",
       "      <td>2515.7</td>\n",
       "      <td>20150.800000</td>\n",
       "      <td>501</td>\n",
       "      <td>1716384.0</td>\n",
       "      <td>24903.06</td>\n",
       "      <td>2297101</td>\n",
       "      <td>2536544</td>\n",
       "      <td>520043</td>\n",
       "      <td>1033593</td>\n",
       "      <td>1535232.0</td>\n",
       "      <td>3760611</td>\n",
       "      <td>1474220</td>\n",
       "      <td>1817219.0</td>\n",
       "      <td>21860.0</td>\n",
       "      <td>2302.73</td>\n",
       "    </tr>\n",
       "    <tr>\n",
       "      <th>36</th>\n",
       "      <td>2016-17</td>\n",
       "      <td>2751.1</td>\n",
       "      <td>19727.300000</td>\n",
       "      <td>530</td>\n",
       "      <td>1849434.0</td>\n",
       "      <td>25776.75</td>\n",
       "      <td>2622145</td>\n",
       "      <td>3393583</td>\n",
       "      <td>517622</td>\n",
       "      <td>1106505</td>\n",
       "      <td>1475882.0</td>\n",
       "      <td>4265969</td>\n",
       "      <td>1382482</td>\n",
       "      <td>2055063.5</td>\n",
       "      <td>23735.0</td>\n",
       "      <td>2548.87</td>\n",
       "    </tr>\n",
       "    <tr>\n",
       "      <th>37</th>\n",
       "      <td>2017-18</td>\n",
       "      <td>2850.1</td>\n",
       "      <td>21248.200000</td>\n",
       "      <td>545</td>\n",
       "      <td>1956515.0</td>\n",
       "      <td>30010.33</td>\n",
       "      <td>3049468</td>\n",
       "      <td>3655237</td>\n",
       "      <td>583131</td>\n",
       "      <td>1166785</td>\n",
       "      <td>1611076.5</td>\n",
       "      <td>4515946</td>\n",
       "      <td>1546543</td>\n",
       "      <td>2313426.0</td>\n",
       "      <td>25535.0</td>\n",
       "      <td>2681.52</td>\n",
       "    </tr>\n",
       "    <tr>\n",
       "      <th>38</th>\n",
       "      <td>2018-19</td>\n",
       "      <td>2852.1</td>\n",
       "      <td>20611.379555</td>\n",
       "      <td>555</td>\n",
       "      <td>2307726.0</td>\n",
       "      <td>35946.75</td>\n",
       "      <td>3516888</td>\n",
       "      <td>4031177</td>\n",
       "      <td>643899</td>\n",
       "      <td>1258219</td>\n",
       "      <td>2040378.5</td>\n",
       "      <td>5516932</td>\n",
       "      <td>1910260</td>\n",
       "      <td>2552119.0</td>\n",
       "      <td>28160.0</td>\n",
       "      <td>2813.05</td>\n",
       "    </tr>\n",
       "    <tr>\n",
       "      <th>39</th>\n",
       "      <td>2019-20</td>\n",
       "      <td>2966.5</td>\n",
       "      <td>21008.542248</td>\n",
       "      <td>565</td>\n",
       "      <td>2218233.0</td>\n",
       "      <td>33557.62</td>\n",
       "      <td>3870520</td>\n",
       "      <td>4350746</td>\n",
       "      <td>761913</td>\n",
       "      <td>1562191</td>\n",
       "      <td>2402186.0</td>\n",
       "      <td>6071777</td>\n",
       "      <td>2161295</td>\n",
       "      <td>2809363.5</td>\n",
       "      <td>28925.0</td>\n",
       "      <td>3670.54</td>\n",
       "    </tr>\n",
       "  </tbody>\n",
       "</table>\n",
       "</div>"
      ],
      "text/plain": [
       "       Year  Total_Foodgrains  Commercial_Crops  CrudeOil_POL_Prod_Imp  \\\n",
       "35  2015-16            2515.7      20150.800000                    501   \n",
       "36  2016-17            2751.1      19727.300000                    530   \n",
       "37  2017-18            2850.1      21248.200000                    545   \n",
       "38  2018-19            2852.1      20611.379555                    555   \n",
       "39  2019-20            2966.5      21008.542248                    565   \n",
       "\n",
       "    Total_Exports  Total_Imports  Tax_Reveneues  Total_Savings_Deposits  \\\n",
       "35      1716384.0       24903.06        2297101                 2536544   \n",
       "36      1849434.0       25776.75        2622145                 3393583   \n",
       "37      1956515.0       30010.33        3049468                 3655237   \n",
       "38      2307726.0       35946.75        3516888                 4031177   \n",
       "39      2218233.0       33557.62        3870520                 4350746   \n",
       "\n",
       "    Fiscal_Deficit  Gross_Market_Borrowing  Liabilities_of_RBI  \\\n",
       "35          520043                 1033593           1535232.0   \n",
       "36          517622                 1106505           1475882.0   \n",
       "37          583131                 1166785           1611076.5   \n",
       "38          643899                 1258219           2040378.5   \n",
       "39          761913                 1562191           2402186.0   \n",
       "\n",
       "    Total_Expenditures  Currenc_with_the_Public  Investments_by_LIC  \\\n",
       "35             3760611                  1474220           1817219.0   \n",
       "36             4265969                  1382482           2055063.5   \n",
       "37             4515946                  1546543           2313426.0   \n",
       "38             5516932                  1910260           2552119.0   \n",
       "39             6071777                  2161295           2809363.5   \n",
       "\n",
       "    Support_Price_for_Foodgrains  Price_of_Gold  \n",
       "35                       21860.0        2302.73  \n",
       "36                       23735.0        2548.87  \n",
       "37                       25535.0        2681.52  \n",
       "38                       28160.0        2813.05  \n",
       "39                       28925.0        3670.54  "
      ]
     },
     "execution_count": 60,
     "metadata": {},
     "output_type": "execute_result"
    }
   ],
   "source": [
    "regressor_data['Commercial_Crops']=y\n",
    "regressor_data.tail(5)"
   ]
  },
  {
   "cell_type": "markdown",
   "metadata": {},
   "source": [
    "So, there is no missing observation any more in the Commercial_Crops."
   ]
  },
  {
   "cell_type": "markdown",
   "metadata": {},
   "source": [
    "### ii) Interpolation of the Values of Support_Price_of_Foodgrains"
   ]
  },
  {
   "cell_type": "markdown",
   "metadata": {},
   "source": [
    "The second observation on Support_Price_of_Foodgrains i.e. the observation corresponding to the year 1981-1982 are missing. As the observations before and after the missing observations are available we can use the interpolation technique to estimate the misssing value in this case."
   ]
  },
  {
   "cell_type": "code",
   "execution_count": 63,
   "metadata": {},
   "outputs": [
    {
     "data": {
      "text/plain": [
       "0     930.0\n",
       "1    1120.5\n",
       "2    1311.0\n",
       "3    1388.0\n",
       "4    1249.0\n",
       "Name: Support_Price_for_Foodgrains, dtype: float64"
      ]
     },
     "execution_count": 63,
     "metadata": {},
     "output_type": "execute_result"
    }
   ],
   "source": [
    "#Using Interpolation for Support_Price_for_Foodgrains\n",
    "regressor_data['Support_Price_for_Foodgrains']=regressor_data['Support_Price_for_Foodgrains'].interpolate()\n",
    "regressor_data['Support_Price_for_Foodgrains'].head(5)"
   ]
  },
  {
   "cell_type": "markdown",
   "metadata": {},
   "source": [
    "Hence, the estimated value corresponding to 1981-1982 is 1120.5"
   ]
  },
  {
   "cell_type": "code",
   "execution_count": 66,
   "metadata": {},
   "outputs": [
    {
     "data": {
      "text/plain": [
       "  Year                          0\n",
       "Total_Foodgrains                0\n",
       "Commercial_Crops                0\n",
       "CrudeOil_POL_Prod_Imp           0\n",
       "Total_Exports                   0\n",
       "Total_Imports                   0\n",
       "Tax_Reveneues                   0\n",
       "Total_Savings_Deposits          0\n",
       "Fiscal_Deficit                  0\n",
       "Gross_Market_Borrowing          0\n",
       "Liabilities_of_RBI              0\n",
       "Total_Expenditures              0\n",
       "Currenc_with_the_Public         0\n",
       "Investments_by_LIC              0\n",
       "Support_Price_for_Foodgrains    0\n",
       "Price_of_Gold                   0\n",
       "dtype: int64"
      ]
     },
     "execution_count": 66,
     "metadata": {},
     "output_type": "execute_result"
    }
   ],
   "source": [
    "regressor_data.isnull().sum()"
   ]
  },
  {
   "cell_type": "markdown",
   "metadata": {},
   "source": [
    "Thus, the above reveals that our data does not contain any missing value anymore. "
   ]
  },
  {
   "cell_type": "markdown",
   "metadata": {},
   "source": [
    "# • Removal and Detection of Duplicate data:"
   ]
  },
  {
   "cell_type": "markdown",
   "metadata": {},
   "source": [
    "The original data on regressors does not contain any duoplicated row. So, we don't need to ake any remedial measure for it."
   ]
  },
  {
   "cell_type": "code",
   "execution_count": 67,
   "metadata": {},
   "outputs": [
    {
     "data": {
      "text/plain": [
       "0"
      ]
     },
     "execution_count": 67,
     "metadata": {},
     "output_type": "execute_result"
    }
   ],
   "source": [
    "#Detection of Duplicate data\n",
    "gdp_data['Year'].duplicated().sum()"
   ]
  },
  {
   "cell_type": "markdown",
   "metadata": {},
   "source": [
    "# • Removal and Detection of Outliers:"
   ]
  },
  {
   "cell_type": "markdown",
   "metadata": {},
   "source": [
    "**Detection:** <br>We will construct boxplot to detect the outliers in each of the regressors. If there are some observations outside the interval $(Q1-1.5*IQR,Q3+1.5*IQR)$, we will conclude that outlier exists in the corresponding regressor.\n",
    "\n",
    "**Removal:** <br> The values of the regressors which are greater than $Q3+(1.5*IQR)$ will be replaced by $Q3+(1.5*IQR)$ <br> The values which are less than $Q1-(1.5*IQR)$ will be replaced by $Q1-(1.5*IQR)$."
   ]
  },
  {
   "cell_type": "code",
   "execution_count": 68,
   "metadata": {},
   "outputs": [
    {
     "data": {
      "text/plain": [
       "<AxesSubplot:>"
      ]
     },
     "execution_count": 68,
     "metadata": {},
     "output_type": "execute_result"
    },
    {
     "data": {
      "image/png": "[encoded data removed]",
      "text/plain": [
       "<Figure size 432x288 with 1 Axes>"
      ]
     },
     "metadata": {
      "needs_background": "light"
     },
     "output_type": "display_data"
    }
   ],
   "source": [
    "#Detection of Outliers\n",
    "regressor_data.boxplot(['Total_Foodgrains'])"
   ]
  },
  {
   "cell_type": "code",
   "execution_count": 69,
   "metadata": {},
   "outputs": [
    {
     "data": {
      "text/plain": [
       "<AxesSubplot:>"
      ]
     },
     "execution_count": 69,
     "metadata": {},
     "output_type": "execute_result"
    },
    {
     "data": {
      "image/png": "[encoded data removed]",
      "text/plain": [
       "<Figure size 432x288 with 1 Axes>"
      ]
     },
     "metadata": {
      "needs_background": "light"
     },
     "output_type": "display_data"
    }
   ],
   "source": [
    "regressor_data.boxplot(['Commercial_Crops'])"
   ]
  },
  {
   "cell_type": "code",
   "execution_count": 70,
   "metadata": {},
   "outputs": [
    {
     "data": {
      "text/plain": [
       "<AxesSubplot:>"
      ]
     },
     "execution_count": 70,
     "metadata": {},
     "output_type": "execute_result"
    },
    {
     "data": {
      "image/png": "[encoded data removed]",
      "text/plain": [
       "<Figure size 432x288 with 1 Axes>"
      ]
     },
     "metadata": {
      "needs_background": "light"
     },
     "output_type": "display_data"
    }
   ],
   "source": [
    "regressor_data.boxplot(['CrudeOil_POL_Prod_Imp'])"
   ]
  },
  {
   "cell_type": "code",
   "execution_count": 71,
   "metadata": {},
   "outputs": [
    {
     "data": {
      "text/plain": [
       "<AxesSubplot:>"
      ]
     },
     "execution_count": 71,
     "metadata": {},
     "output_type": "execute_result"
    },
    {
     "data": {
      "image/png": "[encoded data removed]",
      "text/plain": [
       "<Figure size 432x288 with 1 Axes>"
      ]
     },
     "metadata": {
      "needs_background": "light"
     },
     "output_type": "display_data"
    }
   ],
   "source": [
    "regressor_data.boxplot(['Total_Exports'])"
   ]
  },
  {
   "cell_type": "code",
   "execution_count": 72,
   "metadata": {},
   "outputs": [
    {
     "data": {
      "text/plain": [
       "count    4.000000e+01\n",
       "mean     5.970831e+05\n",
       "std      7.584890e+05\n",
       "min      6.710710e+03\n",
       "25%      3.133280e+04\n",
       "50%      1.815662e+05\n",
       "75%      9.235188e+05\n",
       "max      2.307726e+06\n",
       "Name: Total_Exports, dtype: float64"
      ]
     },
     "execution_count": 72,
     "metadata": {},
     "output_type": "execute_result"
    }
   ],
   "source": [
    "regressor_data['Total_Exports'].describe()"
   ]
  },
  {
   "cell_type": "code",
   "execution_count": 108,
   "metadata": {},
   "outputs": [],
   "source": [
    "Q1=3.133280e+04\n",
    "Q3= 9.235188e+05\n",
    "IQR=Q3-Q1\n",
    "upper_limit=Q3+(1.5*IQR)\n",
    "lower_limit=Q1-(1.5*IQR)"
   ]
  },
  {
   "cell_type": "code",
   "execution_count": 109,
   "metadata": {},
   "outputs": [],
   "source": [
    "regressor_data['Total_Exports']=np.where(regressor_data['Total_Exports']>upper_limit,upper_limit,regressor_data['Total_Exports'])\n",
    "regressor_data['Total_Exports']=np.where(regressor_data['Total_Exports']<lower_limit,lower_limit,regressor_data['Total_Exports'])"
   ]
  },
  {
   "cell_type": "code",
   "execution_count": 110,
   "metadata": {},
   "outputs": [
    {
     "data": {
      "text/plain": [
       "<AxesSubplot:>"
      ]
     },
     "execution_count": 110,
     "metadata": {},
     "output_type": "execute_result"
    },
    {
     "data": {
      "image/png": "[encoded data removed]",
      "text/plain": [
       "<Figure size 432x288 with 1 Axes>"
      ]
     },
     "metadata": {
      "needs_background": "light"
     },
     "output_type": "display_data"
    }
   ],
   "source": [
    "regressor_data.boxplot(['Total_Exports'])"
   ]
  },
  {
   "cell_type": "code",
   "execution_count": 75,
   "metadata": {
    "scrolled": true
   },
   "outputs": [
    {
     "data": {
      "text/plain": [
       "<AxesSubplot:>"
      ]
     },
     "execution_count": 75,
     "metadata": {},
     "output_type": "execute_result"
    },
    {
     "data": {
      "image/png": "[encoded data removed]",
      "text/plain": [
       "<Figure size 432x288 with 1 Axes>"
      ]
     },
     "metadata": {
      "needs_background": "light"
     },
     "output_type": "display_data"
    }
   ],
   "source": [
    "regressor_data.boxplot(['Total_Imports'])"
   ]
  },
  {
   "cell_type": "code",
   "execution_count": 76,
   "metadata": {},
   "outputs": [
    {
     "data": {
      "text/plain": [
       "count       40.000000\n",
       "mean      8852.687588\n",
       "std      11509.400255\n",
       "min        125.491500\n",
       "25%        447.202000\n",
       "50%       2230.546500\n",
       "75%      14516.934500\n",
       "max      35946.750000\n",
       "Name: Total_Imports, dtype: float64"
      ]
     },
     "execution_count": 76,
     "metadata": {},
     "output_type": "execute_result"
    }
   ],
   "source": [
    "regressor_data['Total_Imports'].describe()"
   ]
  },
  {
   "cell_type": "code",
   "execution_count": 112,
   "metadata": {},
   "outputs": [],
   "source": [
    "Q1= 447.202000\n",
    "Q3= 14516.934500\n",
    "IQR=Q3-Q1\n",
    "upper_limit=Q3+(1.5*IQR)\n",
    "lower_limit=Q1-(1.5*IQR)"
   ]
  },
  {
   "cell_type": "code",
   "execution_count": 113,
   "metadata": {},
   "outputs": [],
   "source": [
    "regressor_data['Total_Imports']=np.where(regressor_data['Total_Imports']>upper_limit ,upper_limit,regressor_data['Total_Imports'])\n",
    "regressor_data['Total_Imports']=np.where(regressor_data['Total_Imports']< lower_limit, lower_limit,regressor_data['Total_Imports'])"
   ]
  },
  {
   "cell_type": "code",
   "execution_count": 114,
   "metadata": {},
   "outputs": [
    {
     "data": {
      "text/plain": [
       "<AxesSubplot:>"
      ]
     },
     "execution_count": 114,
     "metadata": {},
     "output_type": "execute_result"
    },
    {
     "data": {
      "image/png": "[encoded data removed]",
      "text/plain": [
       "<Figure size 432x288 with 1 Axes>"
      ]
     },
     "metadata": {
      "needs_background": "light"
     },
     "output_type": "display_data"
    }
   ],
   "source": [
    "regressor_data.boxplot(['Total_Imports'])"
   ]
  },
  {
   "cell_type": "code",
   "execution_count": 82,
   "metadata": {},
   "outputs": [
    {
     "data": {
      "text/plain": [
       "<AxesSubplot:>"
      ]
     },
     "execution_count": 82,
     "metadata": {},
     "output_type": "execute_result"
    },
    {
     "data": {
      "image/png": "[encoded data removed]",
      "text/plain": [
       "<Figure size 432x288 with 1 Axes>"
      ]
     },
     "metadata": {
      "needs_background": "light"
     },
     "output_type": "display_data"
    }
   ],
   "source": [
    "regressor_data.boxplot(['Tax_Reveneues'])"
   ]
  },
  {
   "cell_type": "code",
   "execution_count": 83,
   "metadata": {},
   "outputs": [
    {
     "data": {
      "text/plain": [
       "count    4.000000e+01\n",
       "mean     7.909773e+05\n",
       "std      1.040942e+06\n",
       "min      1.976300e+04\n",
       "25%      8.503350e+04\n",
       "50%      2.862580e+05\n",
       "75%      1.050975e+06\n",
       "max      3.870520e+06\n",
       "Name: Tax_Reveneues, dtype: float64"
      ]
     },
     "execution_count": 83,
     "metadata": {},
     "output_type": "execute_result"
    }
   ],
   "source": [
    "regressor_data['Tax_Reveneues'].describe()"
   ]
  },
  {
   "cell_type": "code",
   "execution_count": 115,
   "metadata": {},
   "outputs": [],
   "source": [
    "Q1=8.503350e+04\n",
    "Q3= 1.050975e+06\n",
    "IQR=Q3-Q1\n",
    "upper_limit=Q3+(1.5*IQR)\n",
    "lower_limit=Q1-(1.5*IQR)"
   ]
  },
  {
   "cell_type": "code",
   "execution_count": 116,
   "metadata": {},
   "outputs": [],
   "source": [
    "regressor_data['Tax_Reveneues']=np.where(regressor_data['Tax_Reveneues']>upper_limit,upper_limit,regressor_data['Tax_Reveneues'])\n",
    "regressor_data['Tax_Reveneues']=np.where(regressor_data['Tax_Reveneues']<lower_limit,lower_limit,regressor_data['Tax_Reveneues'])"
   ]
  },
  {
   "cell_type": "code",
   "execution_count": 125,
   "metadata": {},
   "outputs": [
    {
     "data": {
      "text/plain": [
       "<AxesSubplot:>"
      ]
     },
     "execution_count": 125,
     "metadata": {},
     "output_type": "execute_result"
    },
    {
     "data": {
      "image/png": "[encoded data removed]",
      "text/plain": [
       "<Figure size 432x288 with 1 Axes>"
      ]
     },
     "metadata": {
      "needs_background": "light"
     },
     "output_type": "display_data"
    }
   ],
   "source": [
    "regressor_data.boxplot(['Tax_Reveneues'])"
   ]
  },
  {
   "cell_type": "code",
   "execution_count": 86,
   "metadata": {},
   "outputs": [
    {
     "data": {
      "text/plain": [
       "<AxesSubplot:>"
      ]
     },
     "execution_count": 86,
     "metadata": {},
     "output_type": "execute_result"
    },
    {
     "data": {
      "image/png": "[encoded data removed]",
      "text/plain": [
       "<Figure size 432x288 with 1 Axes>"
      ]
     },
     "metadata": {
      "needs_background": "light"
     },
     "output_type": "display_data"
    }
   ],
   "source": [
    "regressor_data.boxplot(['Total_Savings_Deposits'])"
   ]
  },
  {
   "cell_type": "code",
   "execution_count": 87,
   "metadata": {},
   "outputs": [
    {
     "data": {
      "text/plain": [
       "count    4.000000e+01\n",
       "mean     8.467212e+05\n",
       "std      1.222772e+06\n",
       "min      1.093700e+04\n",
       "25%      4.901750e+04\n",
       "50%      2.074410e+05\n",
       "75%      1.196829e+06\n",
       "max      4.350746e+06\n",
       "Name: Total_Savings_Deposits, dtype: float64"
      ]
     },
     "execution_count": 87,
     "metadata": {},
     "output_type": "execute_result"
    }
   ],
   "source": [
    "regressor_data['Total_Savings_Deposits'].describe()"
   ]
  },
  {
   "cell_type": "code",
   "execution_count": 126,
   "metadata": {},
   "outputs": [],
   "source": [
    "Q1=4.901750e+04\n",
    "Q3= 1.196829e+06\n",
    "IQR=Q3-Q1\n",
    "upper_limit=Q3+(1.5*IQR)\n",
    "lower_limit=Q1-(1.5*IQR)"
   ]
  },
  {
   "cell_type": "code",
   "execution_count": 127,
   "metadata": {},
   "outputs": [],
   "source": [
    "regressor_data['Total_Savings_Deposits']=np.where(regressor_data['Total_Savings_Deposits']>upper_limit ,upper_limit,regressor_data['Total_Savings_Deposits'])\n",
    "regressor_data['Total_Savings_Deposits']=np.where(regressor_data['Total_Savings_Deposits']<lower_limit,lower_limit,regressor_data['Total_Savings_Deposits'])"
   ]
  },
  {
   "cell_type": "code",
   "execution_count": 128,
   "metadata": {},
   "outputs": [
    {
     "data": {
      "text/plain": [
       "<AxesSubplot:>"
      ]
     },
     "execution_count": 128,
     "metadata": {},
     "output_type": "execute_result"
    },
    {
     "data": {
      "image/png": "[encoded data removed]",
      "text/plain": [
       "<Figure size 432x288 with 1 Axes>"
      ]
     },
     "metadata": {
      "needs_background": "light"
     },
     "output_type": "display_data"
    }
   ],
   "source": [
    "regressor_data.boxplot(['Total_Savings_Deposits'])"
   ]
  },
  {
   "cell_type": "code",
   "execution_count": 90,
   "metadata": {},
   "outputs": [
    {
     "data": {
      "text/plain": [
       "<AxesSubplot:>"
      ]
     },
     "execution_count": 90,
     "metadata": {},
     "output_type": "execute_result"
    },
    {
     "data": {
      "image/png": "[encoded data removed]",
      "text/plain": [
       "<Figure size 432x288 with 1 Axes>"
      ]
     },
     "metadata": {
      "needs_background": "light"
     },
     "output_type": "display_data"
    }
   ],
   "source": [
    "regressor_data.boxplot(['Fiscal_Deficit'])"
   ]
  },
  {
   "cell_type": "code",
   "execution_count": 91,
   "metadata": {},
   "outputs": [
    {
     "data": {
      "text/plain": [
       "<AxesSubplot:>"
      ]
     },
     "execution_count": 91,
     "metadata": {},
     "output_type": "execute_result"
    },
    {
     "data": {
      "image/png": "[encoded data removed]",
      "text/plain": [
       "<Figure size 432x288 with 1 Axes>"
      ]
     },
     "metadata": {
      "needs_background": "light"
     },
     "output_type": "display_data"
    }
   ],
   "source": [
    "regressor_data.boxplot(['Gross_Market_Borrowing'])"
   ]
  },
  {
   "cell_type": "code",
   "execution_count": 92,
   "metadata": {},
   "outputs": [
    {
     "data": {
      "text/plain": [
       "count    4.000000e+01\n",
       "mean     3.313628e+05\n",
       "std      4.416667e+05\n",
       "min      3.204000e+03\n",
       "25%      1.059175e+04\n",
       "50%      1.209095e+05\n",
       "75%      5.935455e+05\n",
       "max      1.562191e+06\n",
       "Name: Gross_Market_Borrowing, dtype: float64"
      ]
     },
     "execution_count": 92,
     "metadata": {},
     "output_type": "execute_result"
    }
   ],
   "source": [
    "regressor_data['Gross_Market_Borrowing'].describe()"
   ]
  },
  {
   "cell_type": "code",
   "execution_count": 129,
   "metadata": {},
   "outputs": [],
   "source": [
    "Q1=1.059175e+04\n",
    "Q3= 5.935455e+05\n",
    "IQR=Q3-Q1\n",
    "upper_limit=Q3+(1.5*IQR)\n",
    "lower_limit=Q1-(1.5*IQR)"
   ]
  },
  {
   "cell_type": "code",
   "execution_count": 130,
   "metadata": {},
   "outputs": [],
   "source": [
    "regressor_data['Gross_Market_Borrowing']=np.where(regressor_data['Gross_Market_Borrowing']>upper_limit ,upper_limit,regressor_data['Gross_Market_Borrowing'])\n",
    "regressor_data['Gross_Market_Borrowing']=np.where(regressor_data['Gross_Market_Borrowing']<lower_limit,lower_limit,regressor_data['Gross_Market_Borrowing'])"
   ]
  },
  {
   "cell_type": "code",
   "execution_count": 131,
   "metadata": {},
   "outputs": [
    {
     "data": {
      "text/plain": [
       "<AxesSubplot:>"
      ]
     },
     "execution_count": 131,
     "metadata": {},
     "output_type": "execute_result"
    },
    {
     "data": {
      "image/png": "[encoded data removed]",
      "text/plain": [
       "<Figure size 432x288 with 1 Axes>"
      ]
     },
     "metadata": {
      "needs_background": "light"
     },
     "output_type": "display_data"
    }
   ],
   "source": [
    "regressor_data.boxplot(['Gross_Market_Borrowing'])"
   ]
  },
  {
   "cell_type": "code",
   "execution_count": 95,
   "metadata": {},
   "outputs": [
    {
     "data": {
      "text/plain": [
       "<AxesSubplot:>"
      ]
     },
     "execution_count": 95,
     "metadata": {},
     "output_type": "execute_result"
    },
    {
     "data": {
      "image/png": "[encoded data removed]",
      "text/plain": [
       "<Figure size 432x288 with 1 Axes>"
      ]
     },
     "metadata": {
      "needs_background": "light"
     },
     "output_type": "display_data"
    }
   ],
   "source": [
    "regressor_data.boxplot(['Liabilities_of_RBI'])"
   ]
  },
  {
   "cell_type": "code",
   "execution_count": 96,
   "metadata": {},
   "outputs": [
    {
     "data": {
      "text/plain": [
       "count    4.000000e+01\n",
       "mean     4.987624e+05\n",
       "std      6.311407e+05\n",
       "min      2.553500e+02\n",
       "25%      4.470850e+04\n",
       "50%      1.926448e+05\n",
       "75%      7.666855e+05\n",
       "max      2.402186e+06\n",
       "Name: Liabilities_of_RBI, dtype: float64"
      ]
     },
     "execution_count": 96,
     "metadata": {},
     "output_type": "execute_result"
    }
   ],
   "source": [
    "regressor_data['Liabilities_of_RBI'].describe()"
   ]
  },
  {
   "cell_type": "code",
   "execution_count": 133,
   "metadata": {},
   "outputs": [],
   "source": [
    "Q1=4.470850e+04\n",
    "Q3= 7.666855e+05\n",
    "IQR=Q3-Q1\n",
    "upper_limit=Q3+(1.5*IQR)\n",
    "lower_limit=Q1-(1.5*IQR)"
   ]
  },
  {
   "cell_type": "code",
   "execution_count": 134,
   "metadata": {},
   "outputs": [],
   "source": [
    "regressor_data['Liabilities_of_RBI']=np.where(regressor_data['Liabilities_of_RBI']>upper_limit ,upper_limit,regressor_data['Liabilities_of_RBI'])\n",
    "regressor_data['Liabilities_of_RBI']=np.where(regressor_data['Liabilities_of_RBI']<lower_limit,lower_limit,regressor_data['Liabilities_of_RBI'])"
   ]
  },
  {
   "cell_type": "code",
   "execution_count": 135,
   "metadata": {},
   "outputs": [
    {
     "data": {
      "text/plain": [
       "<AxesSubplot:>"
      ]
     },
     "execution_count": 135,
     "metadata": {},
     "output_type": "execute_result"
    },
    {
     "data": {
      "image/png": "[encoded data removed]",
      "text/plain": [
       "<Figure size 432x288 with 1 Axes>"
      ]
     },
     "metadata": {
      "needs_background": "light"
     },
     "output_type": "display_data"
    }
   ],
   "source": [
    "regressor_data.boxplot(['Liabilities_of_RBI'])"
   ]
  },
  {
   "cell_type": "code",
   "execution_count": 100,
   "metadata": {},
   "outputs": [
    {
     "data": {
      "text/plain": [
       "<AxesSubplot:>"
      ]
     },
     "execution_count": 100,
     "metadata": {},
     "output_type": "execute_result"
    },
    {
     "data": {
      "image/png": "[encoded data removed]",
      "text/plain": [
       "<Figure size 432x288 with 1 Axes>"
      ]
     },
     "metadata": {
      "needs_background": "light"
     },
     "output_type": "display_data"
    }
   ],
   "source": [
    "regressor_data.boxplot(['Total_Expenditures'])"
   ]
  },
  {
   "cell_type": "code",
   "execution_count": 101,
   "metadata": {},
   "outputs": [
    {
     "data": {
      "text/plain": [
       "count    4.000000e+01\n",
       "mean     1.301404e+06\n",
       "std      1.629315e+06\n",
       "min      3.787900e+04\n",
       "25%      1.589248e+05\n",
       "50%      5.680090e+05\n",
       "75%      1.925376e+06\n",
       "max      6.071777e+06\n",
       "Name: Total_Expenditures, dtype: float64"
      ]
     },
     "execution_count": 101,
     "metadata": {},
     "output_type": "execute_result"
    }
   ],
   "source": [
    "regressor_data['Total_Expenditures'].describe()"
   ]
  },
  {
   "cell_type": "code",
   "execution_count": 136,
   "metadata": {},
   "outputs": [],
   "source": [
    "Q1=1.589248e+05\n",
    "Q3= 1.925376e+06\n",
    "IQR=Q3-Q1\n",
    "upper_limit=Q3+(1.5*IQR)\n",
    "lower_limit=Q1-(1.5*IQR)"
   ]
  },
  {
   "cell_type": "code",
   "execution_count": 137,
   "metadata": {},
   "outputs": [],
   "source": [
    "regressor_data['Total_Expenditures']=np.where(regressor_data['Total_Expenditures']>upper_limit ,upper_limit,regressor_data['Total_Expenditures'])\n",
    "regressor_data['Total_Expenditures']=np.where(regressor_data['Total_Expenditures']<lower_limit,lower_limit,regressor_data['Total_Expenditures'])"
   ]
  },
  {
   "cell_type": "code",
   "execution_count": 139,
   "metadata": {},
   "outputs": [
    {
     "data": {
      "text/plain": [
       "<AxesSubplot:>"
      ]
     },
     "execution_count": 139,
     "metadata": {},
     "output_type": "execute_result"
    },
    {
     "data": {
      "image/png": "[encoded data removed]",
      "text/plain": [
       "<Figure size 432x288 with 1 Axes>"
      ]
     },
     "metadata": {
      "needs_background": "light"
     },
     "output_type": "display_data"
    }
   ],
   "source": [
    "regressor_data.boxplot(['Currenc_with_the_Public'])"
   ]
  },
  {
   "cell_type": "code",
   "execution_count": 140,
   "metadata": {},
   "outputs": [
    {
     "data": {
      "text/plain": [
       "count    4.000000e+01\n",
       "mean     4.799845e+05\n",
       "std      5.903521e+05\n",
       "min      1.236400e+04\n",
       "25%      4.792125e+04\n",
       "50%      1.931415e+05\n",
       "75%      7.476585e+05\n",
       "max      2.161295e+06\n",
       "Name: Currenc_with_the_Public, dtype: float64"
      ]
     },
     "execution_count": 140,
     "metadata": {},
     "output_type": "execute_result"
    }
   ],
   "source": [
    "regressor_data['Currenc_with_the_Public'].describe()"
   ]
  },
  {
   "cell_type": "code",
   "execution_count": 141,
   "metadata": {},
   "outputs": [],
   "source": [
    "Q1=4.792125e+04\n",
    "Q3= 7.476585e+05\n",
    "IQR=Q3-Q1\n",
    "upper_limit=Q3+(1.5*IQR)\n",
    "lower_limit=Q1-(1.5*IQR)\n"
   ]
  },
  {
   "cell_type": "code",
   "execution_count": 142,
   "metadata": {},
   "outputs": [],
   "source": [
    "regressor_data['Currenc_with_the_Public']=np.where(regressor_data['Currenc_with_the_Public']>upper_limit ,upper_limit,regressor_data['Currenc_with_the_Public'])\n",
    "regressor_data['Currenc_with_the_Public']=np.where(regressor_data['Currenc_with_the_Public']<lower_limit,lower_limit,regressor_data['Currenc_with_the_Public'])"
   ]
  },
  {
   "cell_type": "code",
   "execution_count": 143,
   "metadata": {},
   "outputs": [
    {
     "data": {
      "text/plain": [
       "<AxesSubplot:>"
      ]
     },
     "execution_count": 143,
     "metadata": {},
     "output_type": "execute_result"
    },
    {
     "data": {
      "image/png": "[encoded data removed]",
      "text/plain": [
       "<Figure size 432x288 with 1 Axes>"
      ]
     },
     "metadata": {
      "needs_background": "light"
     },
     "output_type": "display_data"
    }
   ],
   "source": [
    "regressor_data.boxplot(['Currenc_with_the_Public'])"
   ]
  },
  {
   "cell_type": "code",
   "execution_count": 144,
   "metadata": {},
   "outputs": [
    {
     "data": {
      "text/plain": [
       "<AxesSubplot:>"
      ]
     },
     "execution_count": 144,
     "metadata": {},
     "output_type": "execute_result"
    },
    {
     "data": {
      "image/png": "[encoded data removed]",
      "text/plain": [
       "<Figure size 432x288 with 1 Axes>"
      ]
     },
     "metadata": {
      "needs_background": "light"
     },
     "output_type": "display_data"
    }
   ],
   "source": [
    "regressor_data.boxplot(['Investments_by_LIC'])"
   ]
  },
  {
   "cell_type": "code",
   "execution_count": 158,
   "metadata": {},
   "outputs": [
    {
     "data": {
      "text/plain": [
       "count    4.000000e+01\n",
       "mean     5.451053e+05\n",
       "std      7.274542e+05\n",
       "min      5.287700e+03\n",
       "25%      1.971367e+04\n",
       "50%      1.397928e+05\n",
       "75%      8.789925e+05\n",
       "max      2.167911e+06\n",
       "Name: Investments_by_LIC, dtype: float64"
      ]
     },
     "execution_count": 158,
     "metadata": {},
     "output_type": "execute_result"
    }
   ],
   "source": [
    "regressor_data['Investments_by_LIC'].describe()"
   ]
  },
  {
   "cell_type": "code",
   "execution_count": 159,
   "metadata": {},
   "outputs": [],
   "source": [
    "Q1=1.971367e+04\n",
    "Q3=  8.789925e+05\n",
    "IQR=Q3-Q1\n",
    "upper_limit=Q3+(1.5*IQR)\n",
    "lower_limit=Q1-(1.5*IQR)"
   ]
  },
  {
   "cell_type": "code",
   "execution_count": 163,
   "metadata": {},
   "outputs": [],
   "source": [
    "regressor_data['Investments_by_LIC']=np.where(regressor_data['Investments_by_LIC']>upper_limit ,upper_limit,regressor_data['Investments_by_LIC'])\n",
    "regressor_data['Investments_by_LIC']=np.where(regressor_data['Investments_by_LIC']<lower_limit,lower_limit,regressor_data['Investments_by_LIC'])"
   ]
  },
  {
   "cell_type": "code",
   "execution_count": 164,
   "metadata": {},
   "outputs": [
    {
     "data": {
      "text/plain": [
       "<AxesSubplot:>"
      ]
     },
     "execution_count": 164,
     "metadata": {},
     "output_type": "execute_result"
    },
    {
     "data": {
      "image/png": "[encoded data removed]",
      "text/plain": [
       "<Figure size 432x288 with 1 Axes>"
      ]
     },
     "metadata": {
      "needs_background": "light"
     },
     "output_type": "display_data"
    }
   ],
   "source": [
    "regressor_data.boxplot(['Investments_by_LIC'])"
   ]
  },
  {
   "cell_type": "code",
   "execution_count": 152,
   "metadata": {},
   "outputs": [
    {
     "data": {
      "text/plain": [
       "<AxesSubplot:>"
      ]
     },
     "execution_count": 152,
     "metadata": {},
     "output_type": "execute_result"
    },
    {
     "data": {
      "image/png": "[encoded data removed]",
      "text/plain": [
       "<Figure size 432x288 with 1 Axes>"
      ]
     },
     "metadata": {
      "needs_background": "light"
     },
     "output_type": "display_data"
    }
   ],
   "source": [
    "regressor_data.boxplot(['Support_Price_for_Foodgrains'])"
   ]
  },
  {
   "cell_type": "code",
   "execution_count": 153,
   "metadata": {},
   "outputs": [
    {
     "data": {
      "text/plain": [
       "<AxesSubplot:>"
      ]
     },
     "execution_count": 153,
     "metadata": {},
     "output_type": "execute_result"
    },
    {
     "data": {
      "image/png": "[encoded data removed]",
      "text/plain": [
       "<Figure size 432x288 with 1 Axes>"
      ]
     },
     "metadata": {
      "needs_background": "light"
     },
     "output_type": "display_data"
    }
   ],
   "source": [
    "regressor_data.boxplot(['Price_of_Gold'])"
   ]
  },
  {
   "cell_type": "code",
   "execution_count": 154,
   "metadata": {},
   "outputs": [
    {
     "data": {
      "text/plain": [
       "count      40.000000\n",
       "mean      988.665250\n",
       "std       986.998184\n",
       "min        37.760000\n",
       "25%       309.460000\n",
       "50%       718.295000\n",
       "75%      1222.352500\n",
       "max      3670.540000\n",
       "Name: Price_of_Gold, dtype: float64"
      ]
     },
     "execution_count": 154,
     "metadata": {},
     "output_type": "execute_result"
    }
   ],
   "source": [
    "regressor_data['Price_of_Gold'].describe()"
   ]
  },
  {
   "cell_type": "code",
   "execution_count": 155,
   "metadata": {},
   "outputs": [],
   "source": [
    "Q1=309.460000\n",
    "Q3=1222.352500\n",
    "IQR=Q3-Q1\n",
    "upper_limit=Q3+(1.5*IQR)\n",
    "lower_limit=Q1-(1.5*IQR)"
   ]
  },
  {
   "cell_type": "code",
   "execution_count": 156,
   "metadata": {},
   "outputs": [],
   "source": [
    "regressor_data['Price_of_Gold']=np.where(regressor_data['Price_of_Gold']>upper_limit ,upper_limit,regressor_data['Price_of_Gold'])\n",
    "regressor_data['Price_of_Gold']=np.where(regressor_data['Price_of_Gold']<lower_limit,lower_limit,regressor_data['Price_of_Gold'])"
   ]
  },
  {
   "cell_type": "code",
   "execution_count": 157,
   "metadata": {},
   "outputs": [
    {
     "data": {
      "text/plain": [
       "<AxesSubplot:>"
      ]
     },
     "execution_count": 157,
     "metadata": {},
     "output_type": "execute_result"
    },
    {
     "data": {
      "image/png": "[encoded data removed]",
      "text/plain": [
       "<Figure size 432x288 with 1 Axes>"
      ]
     },
     "metadata": {
      "needs_background": "light"
     },
     "output_type": "display_data"
    }
   ],
   "source": [
    "regressor_data.boxplot(['Price_of_Gold'])"
   ]
  },
  {
   "cell_type": "markdown",
   "metadata": {},
   "source": [
    "Now, we have removed the outliers from the Regressor dataset.<br> Finally we can claim that we have succesfully cleaned the data sets on Regressors and the dataset on GDP at Current Prices by estimating the missing values and by removing the duplicated observations and the outliers."
   ]
  },
  {
   "cell_type": "code",
   "execution_count": 172,
   "metadata": {},
   "outputs": [],
   "source": [
    "Regression_Clean_data=regressor_data"
   ]
  },
  {
   "cell_type": "code",
   "execution_count": 175,
   "metadata": {},
   "outputs": [],
   "source": [
    "Regression_Clean_Data['GDP_at_Current_Prices']=gdp_data['GDP_at_Current_Prices']"
   ]
  },
  {
   "cell_type": "code",
   "execution_count": 179,
   "metadata": {},
   "outputs": [
    {
     "data": {
      "text/plain": [
       "(40, 17)"
      ]
     },
     "execution_count": 179,
     "metadata": {},
     "output_type": "execute_result"
    }
   ],
   "source": [
    "Regression_Clean_Data.shape"
   ]
  },
  {
   "cell_type": "code",
   "execution_count": 183,
   "metadata": {},
   "outputs": [],
   "source": [
    "import xlsxwriter"
   ]
  },
  {
   "cell_type": "code",
   "execution_count": 187,
   "metadata": {},
   "outputs": [],
   "source": [
    "file = pd.ExcelWriter('Regression_Clean_Data.xlsx')\n",
    "Regression_Clean_Data.to_excel(file)\n",
    "file.save()"
   ]
  },
  {
   "cell_type": "markdown",
   "metadata": {},
   "source": [
    "# Step 2: OLS Fitting and Preliminary Analysis of the Cleaned Data"
   ]
  },
  {
   "cell_type": "code",
   "execution_count": 1,
   "metadata": {},
   "outputs": [],
   "source": [
    "import numpy as np\n",
    "import pandas as pd\n",
    "import matplotlib.pyplot as plt \n",
    "import seaborn as sns\n",
    "from statsmodels.graphics.gofplots import ProbPlot\n",
    "from sklearn.linear_model import LinearRegression\n",
    "import statsmodels.api as sm\n",
    "import scipy.stats as stats\n",
    "from scipy.stats import norm\n",
    "from scipy.stats import shapiro\n",
    "import pylab"
   ]
  },
  {
   "cell_type": "code",
   "execution_count": 2,
   "metadata": {},
   "outputs": [
    {
     "data": {
      "text/html": [
       "<div>\n",
       "<style scoped>\n",
       "    .dataframe tbody tr th:only-of-type {\n",
       "        vertical-align: middle;\n",
       "    }\n",
       "\n",
       "    .dataframe tbody tr th {\n",
       "        vertical-align: top;\n",
       "    }\n",
       "\n",
       "    .dataframe thead th {\n",
       "        text-align: right;\n",
       "    }\n",
       "</style>\n",
       "<table border=\"1\" class=\"dataframe\">\n",
       "  <thead>\n",
       "    <tr style=\"text-align: right;\">\n",
       "      <th></th>\n",
       "      <th>Year</th>\n",
       "      <th>Total_Foodgrains</th>\n",
       "      <th>Commercial_Crops</th>\n",
       "      <th>CrudeOil_POL_Prod_Imp</th>\n",
       "      <th>Total_Exports</th>\n",
       "      <th>Total_Imports</th>\n",
       "      <th>Tax_Reveneues</th>\n",
       "      <th>Total_Savings_Deposits</th>\n",
       "      <th>Fiscal_Deficit</th>\n",
       "      <th>Gross_Market_Borrowing</th>\n",
       "      <th>Liabilities_of_RBI</th>\n",
       "      <th>Total_Expenditures</th>\n",
       "      <th>Currenc_with_the_Public</th>\n",
       "      <th>Investments_by_LIC</th>\n",
       "      <th>Support_Price_for_Foodgrains</th>\n",
       "      <th>Price_of_Gold</th>\n",
       "      <th>GDP_at_Current_Prices</th>\n",
       "    </tr>\n",
       "  </thead>\n",
       "  <tbody>\n",
       "    <tr>\n",
       "      <th>0</th>\n",
       "      <td>1980-81</td>\n",
       "      <td>1295.9</td>\n",
       "      <td>8752.7</td>\n",
       "      <td>57</td>\n",
       "      <td>31332.8</td>\n",
       "      <td>447.202</td>\n",
       "      <td>85033.5</td>\n",
       "      <td>49017.5</td>\n",
       "      <td>8299</td>\n",
       "      <td>10591.75</td>\n",
       "      <td>44708.5</td>\n",
       "      <td>158924.8</td>\n",
       "      <td>12364.0</td>\n",
       "      <td>5287.7</td>\n",
       "      <td>930.0</td>\n",
       "      <td>37.76</td>\n",
       "      <td>5651.41</td>\n",
       "    </tr>\n",
       "    <tr>\n",
       "      <th>1</th>\n",
       "      <td>1981-82</td>\n",
       "      <td>1333.0</td>\n",
       "      <td>9376.6</td>\n",
       "      <td>72</td>\n",
       "      <td>31332.8</td>\n",
       "      <td>447.202</td>\n",
       "      <td>85033.5</td>\n",
       "      <td>49017.5</td>\n",
       "      <td>8666</td>\n",
       "      <td>10591.75</td>\n",
       "      <td>44708.5</td>\n",
       "      <td>158924.8</td>\n",
       "      <td>13878.0</td>\n",
       "      <td>6020.5</td>\n",
       "      <td>1120.5</td>\n",
       "      <td>509.23</td>\n",
       "      <td>5651.41</td>\n",
       "    </tr>\n",
       "  </tbody>\n",
       "</table>\n",
       "</div>"
      ],
      "text/plain": [
       "      Year  Total_Foodgrains  Commercial_Crops  CrudeOil_POL_Prod_Imp  \\\n",
       "0  1980-81            1295.9            8752.7                     57   \n",
       "1  1981-82            1333.0            9376.6                     72   \n",
       "\n",
       "   Total_Exports  Total_Imports  Tax_Reveneues  Total_Savings_Deposits  \\\n",
       "0        31332.8        447.202        85033.5                 49017.5   \n",
       "1        31332.8        447.202        85033.5                 49017.5   \n",
       "\n",
       "   Fiscal_Deficit  Gross_Market_Borrowing  Liabilities_of_RBI  \\\n",
       "0            8299                10591.75             44708.5   \n",
       "1            8666                10591.75             44708.5   \n",
       "\n",
       "   Total_Expenditures  Currenc_with_the_Public  Investments_by_LIC  \\\n",
       "0            158924.8                  12364.0              5287.7   \n",
       "1            158924.8                  13878.0              6020.5   \n",
       "\n",
       "   Support_Price_for_Foodgrains  Price_of_Gold  GDP_at_Current_Prices  \n",
       "0                         930.0          37.76                5651.41  \n",
       "1                        1120.5         509.23                5651.41  "
      ]
     },
     "execution_count": 2,
     "metadata": {},
     "output_type": "execute_result"
    }
   ],
   "source": [
    "regression_data=pd.read_csv(r\"C:\\Users\\sb\\Desktop\\Regression Data\\Regression_Clean_Data.csv\")\n",
    "regression_data.head(2)"
   ]
  },
  {
   "cell_type": "code",
   "execution_count": 3,
   "metadata": {},
   "outputs": [],
   "source": [
    "X=regression_data[['Total_Foodgrains','CrudeOil_POL_Prod_Imp','Total_Exports','Total_Imports','Tax_Reveneues','Total_Savings_Deposits','Fiscal_Deficit','Gross_Market_Borrowing','Liabilities_of_RBI','Total_Expenditures','Currenc_with_the_Public','Investments_by_LIC','Support_Price_for_Foodgrains','Price_of_Gold','Commercial_Crops']]\n",
    "Y=regression_data['GDP_at_Current_Prices']"
   ]
  },
  {
   "cell_type": "code",
   "execution_count": 4,
   "metadata": {},
   "outputs": [],
   "source": [
    "X1=sm.add_constant(X)#to add constant value in the model for the intercept term"
   ]
  },
  {
   "cell_type": "markdown",
   "metadata": {},
   "source": [
    "Here we have fitted an MLR model using Ordinary Least Square method."
   ]
  },
  {
   "cell_type": "code",
   "execution_count": 5,
   "metadata": {},
   "outputs": [],
   "source": [
    "model=sm.OLS(Y,X1).fit() "
   ]
  },
  {
   "cell_type": "code",
   "execution_count": 6,
   "metadata": {},
   "outputs": [
    {
     "data": {
      "text/html": [
       "<table class=\"simpletable\">\n",
       "<caption>OLS Regression Results</caption>\n",
       "<tr>\n",
       "  <th>Dep. Variable:</th>    <td>GDP_at_Current_Prices</td> <th>  R-squared:         </th> <td>   1.000</td> \n",
       "</tr>\n",
       "<tr>\n",
       "  <th>Model:</th>                     <td>OLS</td>          <th>  Adj. R-squared:    </th> <td>   1.000</td> \n",
       "</tr>\n",
       "<tr>\n",
       "  <th>Method:</th>               <td>Least Squares</td>     <th>  F-statistic:       </th> <td>2.885e+04</td>\n",
       "</tr>\n",
       "<tr>\n",
       "  <th>Date:</th>               <td>Wed, 14 Apr 2021</td>    <th>  Prob (F-statistic):</th> <td>2.62e-47</td> \n",
       "</tr>\n",
       "<tr>\n",
       "  <th>Time:</th>                   <td>19:17:17</td>        <th>  Log-Likelihood:    </th> <td> -266.97</td> \n",
       "</tr>\n",
       "<tr>\n",
       "  <th>No. Observations:</th>        <td>    40</td>         <th>  AIC:               </th> <td>   565.9</td> \n",
       "</tr>\n",
       "<tr>\n",
       "  <th>Df Residuals:</th>            <td>    24</td>         <th>  BIC:               </th> <td>   593.0</td> \n",
       "</tr>\n",
       "<tr>\n",
       "  <th>Df Model:</th>                <td>    15</td>         <th>                     </th>     <td> </td>    \n",
       "</tr>\n",
       "<tr>\n",
       "  <th>Covariance Type:</th>        <td>nonrobust</td>       <th>                     </th>     <td> </td>    \n",
       "</tr>\n",
       "</table>\n",
       "<table class=\"simpletable\">\n",
       "<tr>\n",
       "                <td></td>                  <th>coef</th>     <th>std err</th>      <th>t</th>      <th>P>|t|</th>  <th>[0.025</th>    <th>0.975]</th>  \n",
       "</tr>\n",
       "<tr>\n",
       "  <th>const</th>                        <td>-2376.4158</td> <td>  612.710</td> <td>   -3.879</td> <td> 0.001</td> <td>-3640.988</td> <td>-1111.844</td>\n",
       "</tr>\n",
       "<tr>\n",
       "  <th>Total_Foodgrains</th>             <td>   -0.0118</td> <td>    0.582</td> <td>   -0.020</td> <td> 0.984</td> <td>   -1.212</td> <td>    1.189</td>\n",
       "</tr>\n",
       "<tr>\n",
       "  <th>CrudeOil_POL_Prod_Imp</th>        <td>  -18.4927</td> <td>    5.180</td> <td>   -3.570</td> <td> 0.002</td> <td>  -29.184</td> <td>   -7.802</td>\n",
       "</tr>\n",
       "<tr>\n",
       "  <th>Total_Exports</th>                <td>   -0.0102</td> <td>    0.007</td> <td>   -1.509</td> <td> 0.144</td> <td>   -0.024</td> <td>    0.004</td>\n",
       "</tr>\n",
       "<tr>\n",
       "  <th>Total_Imports</th>                <td>   -0.0153</td> <td>    0.322</td> <td>   -0.048</td> <td> 0.962</td> <td>   -0.679</td> <td>    0.649</td>\n",
       "</tr>\n",
       "<tr>\n",
       "  <th>Tax_Reveneues</th>                <td>    0.0061</td> <td>    0.004</td> <td>    1.444</td> <td> 0.162</td> <td>   -0.003</td> <td>    0.015</td>\n",
       "</tr>\n",
       "<tr>\n",
       "  <th>Total_Savings_Deposits</th>       <td>   -0.0033</td> <td>    0.003</td> <td>   -1.251</td> <td> 0.223</td> <td>   -0.009</td> <td>    0.002</td>\n",
       "</tr>\n",
       "<tr>\n",
       "  <th>Fiscal_Deficit</th>               <td>   -0.0020</td> <td>    0.002</td> <td>   -0.901</td> <td> 0.376</td> <td>   -0.006</td> <td>    0.003</td>\n",
       "</tr>\n",
       "<tr>\n",
       "  <th>Gross_Market_Borrowing</th>       <td>   -0.0088</td> <td>    0.004</td> <td>   -2.025</td> <td> 0.054</td> <td>   -0.018</td> <td>    0.000</td>\n",
       "</tr>\n",
       "<tr>\n",
       "  <th>Liabilities_of_RBI</th>           <td>    0.0680</td> <td>    0.012</td> <td>    5.563</td> <td> 0.000</td> <td>    0.043</td> <td>    0.093</td>\n",
       "</tr>\n",
       "<tr>\n",
       "  <th>Total_Expenditures</th>           <td>    0.0147</td> <td>    0.004</td> <td>    3.479</td> <td> 0.002</td> <td>    0.006</td> <td>    0.023</td>\n",
       "</tr>\n",
       "<tr>\n",
       "  <th>Currenc_with_the_Public</th>      <td>   -0.0007</td> <td>    0.001</td> <td>   -0.504</td> <td> 0.619</td> <td>   -0.004</td> <td>    0.002</td>\n",
       "</tr>\n",
       "<tr>\n",
       "  <th>Investments_by_LIC</th>           <td>    0.0009</td> <td>    0.001</td> <td>    1.126</td> <td> 0.271</td> <td>   -0.001</td> <td>    0.003</td>\n",
       "</tr>\n",
       "<tr>\n",
       "  <th>Support_Price_for_Foodgrains</th> <td>    0.1823</td> <td>    0.118</td> <td>    1.540</td> <td> 0.137</td> <td>   -0.062</td> <td>    0.427</td>\n",
       "</tr>\n",
       "<tr>\n",
       "  <th>Price_of_Gold</th>                <td>   -0.3246</td> <td>    0.154</td> <td>   -2.103</td> <td> 0.046</td> <td>   -0.643</td> <td>   -0.006</td>\n",
       "</tr>\n",
       "<tr>\n",
       "  <th>Commercial_Crops</th>             <td>    0.4362</td> <td>    0.084</td> <td>    5.219</td> <td> 0.000</td> <td>    0.264</td> <td>    0.609</td>\n",
       "</tr>\n",
       "</table>\n",
       "<table class=\"simpletable\">\n",
       "<tr>\n",
       "  <th>Omnibus:</th>       <td> 3.484</td> <th>  Durbin-Watson:     </th> <td>   1.880</td>\n",
       "</tr>\n",
       "<tr>\n",
       "  <th>Prob(Omnibus):</th> <td> 0.175</td> <th>  Jarque-Bera (JB):  </th> <td>   1.778</td>\n",
       "</tr>\n",
       "<tr>\n",
       "  <th>Skew:</th>          <td>-0.198</td> <th>  Prob(JB):          </th> <td>   0.411</td>\n",
       "</tr>\n",
       "<tr>\n",
       "  <th>Kurtosis:</th>      <td> 2.046</td> <th>  Cond. No.          </th> <td>3.15e+07</td>\n",
       "</tr>\n",
       "</table><br/><br/>Notes:<br/>[1] Standard Errors assume that the covariance matrix of the errors is correctly specified.<br/>[2] The condition number is large, 3.15e+07. This might indicate that there are<br/>strong multicollinearity or other numerical problems."
      ],
      "text/plain": [
       "<class 'statsmodels.iolib.summary.Summary'>\n",
       "\"\"\"\n",
       "                              OLS Regression Results                             \n",
       "=================================================================================\n",
       "Dep. Variable:     GDP_at_Current_Prices   R-squared:                       1.000\n",
       "Model:                               OLS   Adj. R-squared:                  1.000\n",
       "Method:                    Least Squares   F-statistic:                 2.885e+04\n",
       "Date:                   Wed, 14 Apr 2021   Prob (F-statistic):           2.62e-47\n",
       "Time:                           19:17:17   Log-Likelihood:                -266.97\n",
       "No. Observations:                     40   AIC:                             565.9\n",
       "Df Residuals:                         24   BIC:                             593.0\n",
       "Df Model:                             15                                         \n",
       "Covariance Type:               nonrobust                                         \n",
       "================================================================================================\n",
       "                                   coef    std err          t      P>|t|      [0.025      0.975]\n",
       "------------------------------------------------------------------------------------------------\n",
       "const                        -2376.4158    612.710     -3.879      0.001   -3640.988   -1111.844\n",
       "Total_Foodgrains                -0.0118      0.582     -0.020      0.984      -1.212       1.189\n",
       "CrudeOil_POL_Prod_Imp          -18.4927      5.180     -3.570      0.002     -29.184      -7.802\n",
       "Total_Exports                   -0.0102      0.007     -1.509      0.144      -0.024       0.004\n",
       "Total_Imports                   -0.0153      0.322     -0.048      0.962      -0.679       0.649\n",
       "Tax_Reveneues                    0.0061      0.004      1.444      0.162      -0.003       0.015\n",
       "Total_Savings_Deposits          -0.0033      0.003     -1.251      0.223      -0.009       0.002\n",
       "Fiscal_Deficit                  -0.0020      0.002     -0.901      0.376      -0.006       0.003\n",
       "Gross_Market_Borrowing          -0.0088      0.004     -2.025      0.054      -0.018       0.000\n",
       "Liabilities_of_RBI               0.0680      0.012      5.563      0.000       0.043       0.093\n",
       "Total_Expenditures               0.0147      0.004      3.479      0.002       0.006       0.023\n",
       "Currenc_with_the_Public         -0.0007      0.001     -0.504      0.619      -0.004       0.002\n",
       "Investments_by_LIC               0.0009      0.001      1.126      0.271      -0.001       0.003\n",
       "Support_Price_for_Foodgrains     0.1823      0.118      1.540      0.137      -0.062       0.427\n",
       "Price_of_Gold                   -0.3246      0.154     -2.103      0.046      -0.643      -0.006\n",
       "Commercial_Crops                 0.4362      0.084      5.219      0.000       0.264       0.609\n",
       "==============================================================================\n",
       "Omnibus:                        3.484   Durbin-Watson:                   1.880\n",
       "Prob(Omnibus):                  0.175   Jarque-Bera (JB):                1.778\n",
       "Skew:                          -0.198   Prob(JB):                        0.411\n",
       "Kurtosis:                       2.046   Cond. No.                     3.15e+07\n",
       "==============================================================================\n",
       "\n",
       "Notes:\n",
       "[1] Standard Errors assume that the covariance matrix of the errors is correctly specified.\n",
       "[2] The condition number is large, 3.15e+07. This might indicate that there are\n",
       "strong multicollinearity or other numerical problems.\n",
       "\"\"\""
      ]
     },
     "execution_count": 6,
     "metadata": {},
     "output_type": "execute_result"
    }
   ],
   "source": [
    "predictions= model.summary()\n",
    "predictions"
   ]
  },
  {
   "cell_type": "markdown",
   "metadata": {},
   "source": [
    "Clearly we can conclude from the model that total variability in GDP at Current Prices of can be completely explained by our regression model.Since the observed value of F-statistic(11.842) is higher than the tabulated F-value(-39.878) with df (15,24) ,we reject the null hypothesis and interprete that the regression model is significant."
   ]
  },
  {
   "cell_type": "code",
   "execution_count": 7,
   "metadata": {},
   "outputs": [],
   "source": [
    "#Renaming for ease of graph plotting\n",
    "dataframe = pd.concat([X, Y], axis=1)\n",
    "model_fitted_Y = model.fittedvalues\n",
    "model_residuals = model.resid    # model residuals\n",
    "model_norm_residuals = model.get_influence().resid_studentized_internal  # normalized residuals"
   ]
  },
  {
   "cell_type": "markdown",
   "metadata": {},
   "source": [
    "# Inspection of the Normality Assumption of Errors "
   ]
  },
  {
   "cell_type": "markdown",
   "metadata": {},
   "source": [
    "## i) Q-Q Plot:"
   ]
  },
  {
   "cell_type": "markdown",
   "metadata": {},
   "source": [
    "In this method we would plot the the ordered residuals $e_{(i)}$ against $\\Phi^{-1}(\\frac{i-0.5}{n})$ , for i=1,2,...,n.If the errors are truely from Normal Distribution then the plot will be nearly a straight line."
   ]
  },
  {
   "cell_type": "code",
   "execution_count": 8,
   "metadata": {},
   "outputs": [
    {
     "data": {
      "image/png": "[encoded data removed]",
      "text/plain": [
       "<Figure size 432x288 with 1 Axes>"
      ]
     },
     "metadata": {
      "needs_background": "light"
     },
     "output_type": "display_data"
    }
   ],
   "source": [
    "#Using Normal Q-Q Plot\n",
    "QQ = ProbPlot(model_norm_residuals)\n",
    "plot_2 = QQ.qqplot(line='r', alpha=0.5, color='#4C72B0', lw=1)\n",
    "plot_2.axes[0].set_title('Normal Q-Q')\n",
    "plot_2.axes[0].set_xlabel('Theoretical Quantiles')\n",
    "plot_2.axes[0].set_ylabel('Standardized Residuals');\n",
    "# annotations\n",
    "abs_norm_resid = np.flip(np.argsort(np.abs(model_norm_residuals)), 0)\n",
    "abs_norm_resid_top_3 = abs_norm_resid[:3]\n",
    "for r, i in enumerate(abs_norm_resid_top_3):\n",
    "    plot_2.axes[0].annotate(i,\n",
    "                               xy=(np.flip(QQ.theoretical_quantiles, 0)[r],\n",
    "                                   model_norm_residuals[i]))"
   ]
  },
  {
   "cell_type": "markdown",
   "metadata": {},
   "source": [
    "The above Q-Q plot yields almost a straight line.So, it can be concluded that the residuals can be assumed to follow a Normal Distribution which supports our assumption. <br> But we will use others methods to get check our assumption."
   ]
  },
  {
   "cell_type": "markdown",
   "metadata": {},
   "source": [
    "##  ii) Histogram Approach:"
   ]
  },
  {
   "cell_type": "code",
   "execution_count": 9,
   "metadata": {},
   "outputs": [
    {
     "data": {
      "text/plain": [
       "[<matplotlib.lines.Line2D at 0x1d015334580>]"
      ]
     },
     "execution_count": 9,
     "metadata": {},
     "output_type": "execute_result"
    },
    {
     "data": {
      "image/png": "[encoded data removed]",
      "text/plain": [
       "<Figure size 432x288 with 1 Axes>"
      ]
     },
     "metadata": {
      "needs_background": "light"
     },
     "output_type": "display_data"
    }
   ],
   "source": [
    "#Histogram approach of normality checking\n",
    "_, bins, _ = plt.hist(model.resid,density=1,alpha=0.5,ec='k')\n",
    "plt.xlabel('Residuals')\n",
    "mu, sigma = stats.norm.fit(model.resid)\n",
    "best_fit_line = stats.norm.pdf(bins, mu, sigma)\n",
    "plt.plot(bins, best_fit_line)"
   ]
  },
  {
   "cell_type": "markdown",
   "metadata": {},
   "source": [
    "The histogram of Residuals is not significantly different from a Normal Curve. From here we could have concluded that our normality assumption for errors hold, but we will apply Shaipro-Wilk Test for Normality to get the final conclusion."
   ]
  },
  {
   "cell_type": "markdown",
   "metadata": {},
   "source": [
    "## iii) Shaipro-Wilk Test for Normality: "
   ]
  },
  {
   "cell_type": "markdown",
   "metadata": {},
   "source": [
    "Here the null hypothesis is,<br>\n",
    "**H0**:Errors are normally distributed<br><br> The Alternative hypothesis is <br>**H1**:H0 is not true<br>\n",
    "The test Statistic is: <br><br>\n",
    "$W = \\frac{\\sum_{i=1}^{n}{a_{i}\\hat{e_{(i)}}}}{\\sum_{i=1}^{n}({\\hat{e_{i}}-\\bar{e}})^2}$ <br><br>\n",
    "Here, $\\hat{e_{i}}$ are the ith fitted residual<br>\n",
    "$\\hat{e_{(i)}}$ is the ith order statistic<br>\n",
    "$\\bar{e}$ is the sample mean<br>\n",
    "$(a_{1},...,a_{n}) = \\frac{m^{T}V^{-1}}{C}$<br>\n",
    "And , $C=(m^{T}V^{-1}V^{-1}m)^{\\frac{1}{2}}$<br>\n",
    "Here m is made of the expected values of the order statistics of independent and identically distributed random variables sampled from the standard normal distribution; finally, V is the covariance matrix of those normal order statistics.\n"
   ]
  },
  {
   "cell_type": "code",
   "execution_count": 10,
   "metadata": {},
   "outputs": [],
   "source": [
    "#Shapiro Wilk Test for normality\n",
    "stat, p = shapiro(model.resid)\n"
   ]
  },
  {
   "cell_type": "code",
   "execution_count": 11,
   "metadata": {},
   "outputs": [
    {
     "data": {
      "text/plain": [
       "0.9673185348510742"
      ]
     },
     "execution_count": 11,
     "metadata": {},
     "output_type": "execute_result"
    }
   ],
   "source": [
    "stat"
   ]
  },
  {
   "cell_type": "code",
   "execution_count": 12,
   "metadata": {},
   "outputs": [
    {
     "data": {
      "text/plain": [
       "0.29499444365501404"
      ]
     },
     "execution_count": 12,
     "metadata": {},
     "output_type": "execute_result"
    }
   ],
   "source": [
    "p"
   ]
  },
  {
   "cell_type": "markdown",
   "metadata": {},
   "source": [
    "Test statistic, W = 0.967, p-value = 0.294>0.05(α)<br> So we fail to reject the null hypothesis at 5% level of significance and conclude on the basis of the given data that the  distribution of errors is not significantly different from Normal Distribution. So, our assumption is true.\n"
   ]
  },
  {
   "cell_type": "markdown",
   "metadata": {},
   "source": [
    "# Inspection of Homoscedastic Assumptions of Errors"
   ]
  },
  {
   "cell_type": "markdown",
   "metadata": {},
   "source": [
    "### i)Residual vs Fitted Plot:\n"
   ]
  },
  {
   "cell_type": "markdown",
   "metadata": {},
   "source": [
    "Here we plot the residuals against the fitted responses. If the errors are homoscedastic then we would expect a horizontal band and completely random pattern around $\\hat{e_{i}} = 0 $ line. If any pattern is detected this will indicate that the variances may be non constant."
   ]
  },
  {
   "cell_type": "code",
   "execution_count": 13,
   "metadata": {},
   "outputs": [
    {
     "name": "stderr",
     "output_type": "stream",
     "text": [
      "c:\\users\\rachita\\appdata\\local\\programs\\python\\python39\\lib\\site-packages\\seaborn\\_decorators.py:36: FutureWarning: Pass the following variables as keyword args: x, y. From version 0.12, the only valid positional argument will be `data`, and passing other arguments without an explicit keyword will result in an error or misinterpretation.\n",
      "  warnings.warn(\n"
     ]
    },
    {
     "data": {
      "text/plain": [
       "Text(0, 0.5, 'Residuals')"
      ]
     },
     "execution_count": 13,
     "metadata": {},
     "output_type": "execute_result"
    },
    {
     "data": {
      "image/png": "[encoded data removed]",
      "text/plain": [
       "<Figure size 432x288 with 1 Axes>"
      ]
     },
     "metadata": {
      "needs_background": "light"
     },
     "output_type": "display_data"
    }
   ],
   "source": [
    "#Residual vs Fitted Plot\n",
    "plot_1 = plt.figure()\n",
    "plot_1.axes[0] = sns.residplot(model_fitted_Y,dataframe.columns[-1],data=dataframe,\n",
    "                          lowess=True,\n",
    "                          scatter_kws={'alpha': 0.5},\n",
    "                          line_kws={'color': 'red', 'lw': 1, 'alpha': 0.8})\n",
    "\n",
    "plot_1.axes[0].set_title('Residuals vs Fitted')\n",
    "plot_1.axes[0].set_xlabel('Fitted values')\n",
    "plot_1.axes[0].set_ylabel('Residuals')"
   ]
  },
  {
   "cell_type": "markdown",
   "metadata": {},
   "source": [
    "We have plotted the Residuals aginst the Fitted responses. We obtained a more or less random pattern among the residuals about the horizontal band. So we can conclude that, the assumption based on homoscedasticity is true in our Model."
   ]
  },
  {
   "cell_type": "markdown",
   "metadata": {},
   "source": [
    "### ii)Breusch-Pagan Test for Heteroscedasticity"
   ]
  },
  {
   "attachments": {
    "image-4.png": {
     "image/png": "[encoded data removed]"
    }
   },
   "cell_type": "markdown",
   "metadata": {},
   "source": [
    "![image-4.png](attachment:image-4.png)"
   ]
  },
  {
   "cell_type": "code",
   "execution_count": 14,
   "metadata": {},
   "outputs": [],
   "source": [
    "from statsmodels.compat import lzip\n",
    "import statsmodels.stats.api as sms"
   ]
  },
  {
   "cell_type": "code",
   "execution_count": 15,
   "metadata": {},
   "outputs": [
    {
     "data": {
      "text/plain": [
       "[('Lagrange multiplier statistic', 18.09688221778359),\n",
       " ('p-value', 0.257606439712869),\n",
       " ('f-value', 1.3219584461150513),\n",
       " ('f p-value', 0.2632552221153009)]"
      ]
     },
     "execution_count": 15,
     "metadata": {},
     "output_type": "execute_result"
    }
   ],
   "source": [
    "names = ['Lagrange multiplier statistic', 'p-value',\n",
    "        'f-value', 'f p-value']\n",
    "test = sms.het_breuschpagan(model.resid, model.model.exog)\n",
    "lzip(names, test)##Model Homoscedastic"
   ]
  },
  {
   "cell_type": "markdown",
   "metadata": {},
   "source": [
    "p-value = 0.257>0.05(α)<br> So we fail to reject the null hypothesis at 5% level of significance and conclude on the basis of the given data that the  distribution of errors is not heteroscedastic. So, our assumption is true.\n"
   ]
  },
  {
   "cell_type": "markdown",
   "metadata": {},
   "source": [
    "# Inspection of the Assumption for Independence among the Errors"
   ]
  },
  {
   "cell_type": "markdown",
   "metadata": {},
   "source": [
    "In our model the value of Durbin-Watson Statistic is d=1.880. It indicates that there may exist a positive correlation among the errors as 0<1.88<2. Hence we would like to test,<br> $H_{0}$ : ρ = 0 ag. $H_{1}$ : ρ > 0\n",
    "For n=40, p=15, α=0.05, $d_{L}$=0.678, $d_{U}$=2.557. So, $d_{L}$<d<$d_{U}$ <br>\n",
    "Since the exact Durbin Watson test becomes inconclusive, we use \n",
    "the modified Durbin Watson test. Here d < $d_{U}, so H0 is rejected.\n",
    "i.e. there exists a positive autocorrelation among the errors.\n",
    "\n",
    "**Remedy:** <br>We will fit thw model with usual error assumption<br>  $Y_{i}$ =$β_{0}$ + $β_{1}$$X_{i1}$+ … + $β_{p}$$X_{ip}$ +λ$Y_ {i-1}$+ $ϵ_{i}$,   i=2(1)n \n"
   ]
  },
  {
   "cell_type": "code",
   "execution_count": 16,
   "metadata": {
    "scrolled": false
   },
   "outputs": [
    {
     "data": {
      "text/html": [
       "<table class=\"simpletable\">\n",
       "<caption>OLS Regression Results</caption>\n",
       "<tr>\n",
       "  <th>Dep. Variable:</th>    <td>GDP_at_Current_Prices</td> <th>  R-squared:         </th> <td>   1.000</td> \n",
       "</tr>\n",
       "<tr>\n",
       "  <th>Model:</th>                     <td>OLS</td>          <th>  Adj. R-squared:    </th> <td>   1.000</td> \n",
       "</tr>\n",
       "<tr>\n",
       "  <th>Method:</th>               <td>Least Squares</td>     <th>  F-statistic:       </th> <td>2.505e+04</td>\n",
       "</tr>\n",
       "<tr>\n",
       "  <th>Date:</th>               <td>Wed, 14 Apr 2021</td>    <th>  Prob (F-statistic):</th> <td>4.34e-43</td> \n",
       "</tr>\n",
       "<tr>\n",
       "  <th>Time:</th>                   <td>19:26:15</td>        <th>  Log-Likelihood:    </th> <td> -260.10</td> \n",
       "</tr>\n",
       "<tr>\n",
       "  <th>No. Observations:</th>        <td>    39</td>         <th>  AIC:               </th> <td>   554.2</td> \n",
       "</tr>\n",
       "<tr>\n",
       "  <th>Df Residuals:</th>            <td>    22</td>         <th>  BIC:               </th> <td>   582.5</td> \n",
       "</tr>\n",
       "<tr>\n",
       "  <th>Df Model:</th>                <td>    16</td>         <th>                     </th>     <td> </td>    \n",
       "</tr>\n",
       "<tr>\n",
       "  <th>Covariance Type:</th>        <td>nonrobust</td>       <th>                     </th>     <td> </td>    \n",
       "</tr>\n",
       "</table>\n",
       "<table class=\"simpletable\">\n",
       "<tr>\n",
       "                <td></td>                  <th>coef</th>     <th>std err</th>      <th>t</th>      <th>P>|t|</th>  <th>[0.025</th>    <th>0.975]</th>  \n",
       "</tr>\n",
       "<tr>\n",
       "  <th>const</th>                        <td>-2240.5376</td> <td>  651.414</td> <td>   -3.440</td> <td> 0.002</td> <td>-3591.487</td> <td> -889.589</td>\n",
       "</tr>\n",
       "<tr>\n",
       "  <th>Total_Foodgrains</th>             <td>   -0.0150</td> <td>    0.608</td> <td>   -0.025</td> <td> 0.981</td> <td>   -1.275</td> <td>    1.245</td>\n",
       "</tr>\n",
       "<tr>\n",
       "  <th>CrudeOil_POL_Prod_Imp</th>        <td>  -20.1193</td> <td>    7.065</td> <td>   -2.848</td> <td> 0.009</td> <td>  -34.770</td> <td>   -5.468</td>\n",
       "</tr>\n",
       "<tr>\n",
       "  <th>Total_Exports</th>                <td>   -0.0105</td> <td>    0.007</td> <td>   -1.469</td> <td> 0.156</td> <td>   -0.025</td> <td>    0.004</td>\n",
       "</tr>\n",
       "<tr>\n",
       "  <th>Total_Imports</th>                <td>   -0.0266</td> <td>    0.355</td> <td>   -0.075</td> <td> 0.941</td> <td>   -0.764</td> <td>    0.711</td>\n",
       "</tr>\n",
       "<tr>\n",
       "  <th>Tax_Reveneues</th>                <td>    0.0063</td> <td>    0.004</td> <td>    1.408</td> <td> 0.173</td> <td>   -0.003</td> <td>    0.015</td>\n",
       "</tr>\n",
       "<tr>\n",
       "  <th>Total_Savings_Deposits</th>       <td>   -0.0035</td> <td>    0.003</td> <td>   -1.192</td> <td> 0.246</td> <td>   -0.010</td> <td>    0.003</td>\n",
       "</tr>\n",
       "<tr>\n",
       "  <th>Fiscal_Deficit</th>               <td>   -0.0018</td> <td>    0.002</td> <td>   -0.787</td> <td> 0.440</td> <td>   -0.006</td> <td>    0.003</td>\n",
       "</tr>\n",
       "<tr>\n",
       "  <th>Gross_Market_Borrowing</th>       <td>   -0.0092</td> <td>    0.004</td> <td>   -2.064</td> <td> 0.051</td> <td>   -0.019</td> <td> 4.49e-05</td>\n",
       "</tr>\n",
       "<tr>\n",
       "  <th>Liabilities_of_RBI</th>           <td>    0.0678</td> <td>    0.013</td> <td>    5.333</td> <td> 0.000</td> <td>    0.041</td> <td>    0.094</td>\n",
       "</tr>\n",
       "<tr>\n",
       "  <th>Total_Expenditures</th>           <td>    0.0151</td> <td>    0.005</td> <td>    3.217</td> <td> 0.004</td> <td>    0.005</td> <td>    0.025</td>\n",
       "</tr>\n",
       "<tr>\n",
       "  <th>Currenc_with_the_Public</th>      <td>   -0.0007</td> <td>    0.002</td> <td>   -0.446</td> <td> 0.660</td> <td>   -0.004</td> <td>    0.002</td>\n",
       "</tr>\n",
       "<tr>\n",
       "  <th>Investments_by_LIC</th>           <td>    0.0011</td> <td>    0.001</td> <td>    1.269</td> <td> 0.218</td> <td>   -0.001</td> <td>    0.003</td>\n",
       "</tr>\n",
       "<tr>\n",
       "  <th>Support_Price_for_Foodgrains</th> <td>    0.1758</td> <td>    0.137</td> <td>    1.283</td> <td> 0.213</td> <td>   -0.108</td> <td>    0.460</td>\n",
       "</tr>\n",
       "<tr>\n",
       "  <th>Price_of_Gold</th>                <td>   -0.3533</td> <td>    0.164</td> <td>   -2.160</td> <td> 0.042</td> <td>   -0.693</td> <td>   -0.014</td>\n",
       "</tr>\n",
       "<tr>\n",
       "  <th>Commercial_Crops</th>             <td>    0.4344</td> <td>    0.091</td> <td>    4.759</td> <td> 0.000</td> <td>    0.245</td> <td>    0.624</td>\n",
       "</tr>\n",
       "<tr>\n",
       "  <th>GDP_at_Current_Prices</th>        <td>    0.0082</td> <td>    0.049</td> <td>    0.169</td> <td> 0.867</td> <td>   -0.092</td> <td>    0.109</td>\n",
       "</tr>\n",
       "</table>\n",
       "<table class=\"simpletable\">\n",
       "<tr>\n",
       "  <th>Omnibus:</th>       <td> 2.869</td> <th>  Durbin-Watson:     </th> <td>   2.010</td>\n",
       "</tr>\n",
       "<tr>\n",
       "  <th>Prob(Omnibus):</th> <td> 0.238</td> <th>  Jarque-Bera (JB):  </th> <td>   1.587</td>\n",
       "</tr>\n",
       "<tr>\n",
       "  <th>Skew:</th>          <td>-0.184</td> <th>  Prob(JB):          </th> <td>   0.452</td>\n",
       "</tr>\n",
       "<tr>\n",
       "  <th>Kurtosis:</th>      <td> 2.083</td> <th>  Cond. No.          </th> <td>3.26e+07</td>\n",
       "</tr>\n",
       "</table><br/><br/>Notes:<br/>[1] Standard Errors assume that the covariance matrix of the errors is correctly specified.<br/>[2] The condition number is large, 3.26e+07. This might indicate that there are<br/>strong multicollinearity or other numerical problems."
      ],
      "text/plain": [
       "<class 'statsmodels.iolib.summary.Summary'>\n",
       "\"\"\"\n",
       "                              OLS Regression Results                             \n",
       "=================================================================================\n",
       "Dep. Variable:     GDP_at_Current_Prices   R-squared:                       1.000\n",
       "Model:                               OLS   Adj. R-squared:                  1.000\n",
       "Method:                    Least Squares   F-statistic:                 2.505e+04\n",
       "Date:                   Wed, 14 Apr 2021   Prob (F-statistic):           4.34e-43\n",
       "Time:                           19:26:15   Log-Likelihood:                -260.10\n",
       "No. Observations:                     39   AIC:                             554.2\n",
       "Df Residuals:                         22   BIC:                             582.5\n",
       "Df Model:                             16                                         \n",
       "Covariance Type:               nonrobust                                         \n",
       "================================================================================================\n",
       "                                   coef    std err          t      P>|t|      [0.025      0.975]\n",
       "------------------------------------------------------------------------------------------------\n",
       "const                        -2240.5376    651.414     -3.440      0.002   -3591.487    -889.589\n",
       "Total_Foodgrains                -0.0150      0.608     -0.025      0.981      -1.275       1.245\n",
       "CrudeOil_POL_Prod_Imp          -20.1193      7.065     -2.848      0.009     -34.770      -5.468\n",
       "Total_Exports                   -0.0105      0.007     -1.469      0.156      -0.025       0.004\n",
       "Total_Imports                   -0.0266      0.355     -0.075      0.941      -0.764       0.711\n",
       "Tax_Reveneues                    0.0063      0.004      1.408      0.173      -0.003       0.015\n",
       "Total_Savings_Deposits          -0.0035      0.003     -1.192      0.246      -0.010       0.003\n",
       "Fiscal_Deficit                  -0.0018      0.002     -0.787      0.440      -0.006       0.003\n",
       "Gross_Market_Borrowing          -0.0092      0.004     -2.064      0.051      -0.019    4.49e-05\n",
       "Liabilities_of_RBI               0.0678      0.013      5.333      0.000       0.041       0.094\n",
       "Total_Expenditures               0.0151      0.005      3.217      0.004       0.005       0.025\n",
       "Currenc_with_the_Public         -0.0007      0.002     -0.446      0.660      -0.004       0.002\n",
       "Investments_by_LIC               0.0011      0.001      1.269      0.218      -0.001       0.003\n",
       "Support_Price_for_Foodgrains     0.1758      0.137      1.283      0.213      -0.108       0.460\n",
       "Price_of_Gold                   -0.3533      0.164     -2.160      0.042      -0.693      -0.014\n",
       "Commercial_Crops                 0.4344      0.091      4.759      0.000       0.245       0.624\n",
       "GDP_at_Current_Prices            0.0082      0.049      0.169      0.867      -0.092       0.109\n",
       "==============================================================================\n",
       "Omnibus:                        2.869   Durbin-Watson:                   2.010\n",
       "Prob(Omnibus):                  0.238   Jarque-Bera (JB):                1.587\n",
       "Skew:                          -0.184   Prob(JB):                        0.452\n",
       "Kurtosis:                       2.083   Cond. No.                     3.26e+07\n",
       "==============================================================================\n",
       "\n",
       "Notes:\n",
       "[1] Standard Errors assume that the covariance matrix of the errors is correctly specified.\n",
       "[2] The condition number is large, 3.26e+07. This might indicate that there are\n",
       "strong multicollinearity or other numerical problems.\n",
       "\"\"\""
      ]
     },
     "execution_count": 16,
     "metadata": {},
     "output_type": "execute_result"
    }
   ],
   "source": [
    "data=regression_data.drop(index=0)\n",
    "X_new=data[['Total_Foodgrains','CrudeOil_POL_Prod_Imp','Total_Exports','Total_Imports','Tax_Reveneues','Total_Savings_Deposits','Fiscal_Deficit','Gross_Market_Borrowing','Liabilities_of_RBI','Total_Expenditures','Currenc_with_the_Public','Investments_by_LIC','Support_Price_for_Foodgrains','Price_of_Gold','Commercial_Crops']]\n",
    "data.head(2)\n",
    "Y_new=data['GDP_at_Current_Prices']\n",
    "Y1=regression_data['GDP_at_Current_Prices'].drop(index=39)\n",
    "index=[1,2,3,4,5,6,7,8,9,10,11,12,13,14,15,16,17,18,19,20,21,22,23,24,25,26,27,28,29,30,31,32,33,34,35,36,37,38,39]\n",
    "ind=pd.DataFrame(index)\n",
    "Y1=pd.concat([ind,Y1],axis=1)\n",
    "Y1=Y1.set_index(Y1[0])\n",
    "Y1=Y1['GDP_at_Current_Prices']\n",
    "X=pd.concat([X_new,Y1],axis=1)\n",
    "X1=sm.add_constant(X)\n",
    "model= sm.OLS(Y_new,X1).fit() \n",
    "predictions= model.summary()\n",
    "predictions"
   ]
  },
  {
   "cell_type": "markdown",
   "metadata": {},
   "source": [
    "In this case to detect the presence of autocorrelation we need to use Durbin's h Test.\n",
    "<br> $H_{0}$ : $\\rho = 0$   vs $H_{1} : Not H_{0}$ <br>\n",
    "The test statistic is given by<br>\n",
    "$$h = \\hat\\rho \\sqrt{\\frac{40}{1-(40* V(\\hat\\gamma))}}$$\n",
    "<br>We will reject the Null hypothesis at 5% level of significnce if the observed h<-1.9596 or h>1.95996\n",
    "<br> Now, $\\hat\\rho=1-\\frac{d}{2}=1-\\frac{2.010}{2}=-0.005$\n",
    "<br> So, h=-0.033\n",
    "<br> Hence the absolute value of h is less that 1.95996, So we accept the Null Hypothesis at 5% level of Significance and conclude on the bais of the given data that the errors in our new model are independent.\n"
   ]
  },
  {
   "cell_type": "code",
   "execution_count": null,
   "metadata": {},
   "outputs": [],
   "source": []
  }
 ],
 "metadata": {
  "kernelspec": {
   "display_name": "Python 3",
   "language": "python",
   "name": "python3"
  },
  "language_info": {
   "codemirror_mode": {
    "name": "ipython",
    "version": 3
   },
   "file_extension": ".py",
   "mimetype": "text/x-python",
   "name": "python",
   "nbconvert_exporter": "python",
   "pygments_lexer": "ipython3",
   "version": "3.8.5"
  }
 },
 "nbformat": 4,
 "nbformat_minor": 5
}
